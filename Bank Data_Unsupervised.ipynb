{
 "cells": [
  {
   "cell_type": "code",
   "execution_count": 61,
   "metadata": {},
   "outputs": [],
   "source": [
    "import os\n",
    "import pandas as pd\n",
    "import matplotlib.pyplot as plt\n",
    "import numpy as np\n",
    "\n",
    "## For Clustering:\n",
    "\n",
    "from sklearn.cluster import KMeans\n",
    "from sklearn.mixture import GaussianMixture\n",
    "\n",
    "from sklearn import preprocessing\n",
    "import seaborn as sns\n",
    "%matplotlib inline\n",
    "\n",
    "import warnings\n",
    "warnings.filterwarnings('ignore')"
   ]
  },
  {
   "cell_type": "markdown",
   "metadata": {},
   "source": [
    "#### We are assuming that the problem as Unsupervised Learning problem, so the lables are unknown here:"
   ]
  },
  {
   "cell_type": "code",
   "execution_count": 62,
   "metadata": {},
   "outputs": [
    {
     "data": {
      "text/html": [
       "<div>\n",
       "<style scoped>\n",
       "    .dataframe tbody tr th:only-of-type {\n",
       "        vertical-align: middle;\n",
       "    }\n",
       "\n",
       "    .dataframe tbody tr th {\n",
       "        vertical-align: top;\n",
       "    }\n",
       "\n",
       "    .dataframe thead th {\n",
       "        text-align: right;\n",
       "    }\n",
       "</style>\n",
       "<table border=\"1\" class=\"dataframe\">\n",
       "  <thead>\n",
       "    <tr style=\"text-align: right;\">\n",
       "      <th></th>\n",
       "      <th>age</th>\n",
       "      <th>job</th>\n",
       "      <th>marital</th>\n",
       "      <th>education</th>\n",
       "      <th>default</th>\n",
       "      <th>balance</th>\n",
       "      <th>housing</th>\n",
       "      <th>loan</th>\n",
       "      <th>contact</th>\n",
       "      <th>day</th>\n",
       "      <th>month</th>\n",
       "      <th>duration</th>\n",
       "      <th>campaign</th>\n",
       "      <th>pdays</th>\n",
       "      <th>previous</th>\n",
       "      <th>poutcome</th>\n",
       "      <th>y</th>\n",
       "    </tr>\n",
       "  </thead>\n",
       "  <tbody>\n",
       "    <tr>\n",
       "      <th>0</th>\n",
       "      <td>58</td>\n",
       "      <td>management</td>\n",
       "      <td>married</td>\n",
       "      <td>tertiary</td>\n",
       "      <td>no</td>\n",
       "      <td>2143</td>\n",
       "      <td>yes</td>\n",
       "      <td>no</td>\n",
       "      <td>unknown</td>\n",
       "      <td>5</td>\n",
       "      <td>may</td>\n",
       "      <td>261</td>\n",
       "      <td>1</td>\n",
       "      <td>-1</td>\n",
       "      <td>0</td>\n",
       "      <td>unknown</td>\n",
       "      <td>no</td>\n",
       "    </tr>\n",
       "    <tr>\n",
       "      <th>1</th>\n",
       "      <td>44</td>\n",
       "      <td>technician</td>\n",
       "      <td>single</td>\n",
       "      <td>secondary</td>\n",
       "      <td>no</td>\n",
       "      <td>29</td>\n",
       "      <td>yes</td>\n",
       "      <td>no</td>\n",
       "      <td>unknown</td>\n",
       "      <td>5</td>\n",
       "      <td>may</td>\n",
       "      <td>151</td>\n",
       "      <td>1</td>\n",
       "      <td>-1</td>\n",
       "      <td>0</td>\n",
       "      <td>unknown</td>\n",
       "      <td>no</td>\n",
       "    </tr>\n",
       "    <tr>\n",
       "      <th>2</th>\n",
       "      <td>33</td>\n",
       "      <td>entrepreneur</td>\n",
       "      <td>married</td>\n",
       "      <td>secondary</td>\n",
       "      <td>no</td>\n",
       "      <td>2</td>\n",
       "      <td>yes</td>\n",
       "      <td>yes</td>\n",
       "      <td>unknown</td>\n",
       "      <td>5</td>\n",
       "      <td>may</td>\n",
       "      <td>76</td>\n",
       "      <td>1</td>\n",
       "      <td>-1</td>\n",
       "      <td>0</td>\n",
       "      <td>unknown</td>\n",
       "      <td>no</td>\n",
       "    </tr>\n",
       "    <tr>\n",
       "      <th>3</th>\n",
       "      <td>47</td>\n",
       "      <td>blue-collar</td>\n",
       "      <td>married</td>\n",
       "      <td>unknown</td>\n",
       "      <td>no</td>\n",
       "      <td>1506</td>\n",
       "      <td>yes</td>\n",
       "      <td>no</td>\n",
       "      <td>unknown</td>\n",
       "      <td>5</td>\n",
       "      <td>may</td>\n",
       "      <td>92</td>\n",
       "      <td>1</td>\n",
       "      <td>-1</td>\n",
       "      <td>0</td>\n",
       "      <td>unknown</td>\n",
       "      <td>no</td>\n",
       "    </tr>\n",
       "    <tr>\n",
       "      <th>4</th>\n",
       "      <td>33</td>\n",
       "      <td>unknown</td>\n",
       "      <td>single</td>\n",
       "      <td>unknown</td>\n",
       "      <td>no</td>\n",
       "      <td>1</td>\n",
       "      <td>no</td>\n",
       "      <td>no</td>\n",
       "      <td>unknown</td>\n",
       "      <td>5</td>\n",
       "      <td>may</td>\n",
       "      <td>198</td>\n",
       "      <td>1</td>\n",
       "      <td>-1</td>\n",
       "      <td>0</td>\n",
       "      <td>unknown</td>\n",
       "      <td>no</td>\n",
       "    </tr>\n",
       "  </tbody>\n",
       "</table>\n",
       "</div>"
      ],
      "text/plain": [
       "   age           job  marital  education default  balance housing loan  \\\n",
       "0   58    management  married   tertiary      no     2143     yes   no   \n",
       "1   44    technician   single  secondary      no       29     yes   no   \n",
       "2   33  entrepreneur  married  secondary      no        2     yes  yes   \n",
       "3   47   blue-collar  married    unknown      no     1506     yes   no   \n",
       "4   33       unknown   single    unknown      no        1      no   no   \n",
       "\n",
       "   contact  day month  duration  campaign  pdays  previous poutcome   y  \n",
       "0  unknown    5   may       261         1     -1         0  unknown  no  \n",
       "1  unknown    5   may       151         1     -1         0  unknown  no  \n",
       "2  unknown    5   may        76         1     -1         0  unknown  no  \n",
       "3  unknown    5   may        92         1     -1         0  unknown  no  \n",
       "4  unknown    5   may       198         1     -1         0  unknown  no  "
      ]
     },
     "execution_count": 62,
     "metadata": {},
     "output_type": "execute_result"
    }
   ],
   "source": [
    "dataset = pd.read_csv('C:/Users/anshu/Downloads/bank-full.csv', sep=';')\n",
    "dataset.head()"
   ]
  },
  {
   "cell_type": "markdown",
   "metadata": {},
   "source": [
    "#### We will check for the missing values:"
   ]
  },
  {
   "cell_type": "code",
   "execution_count": 63,
   "metadata": {
    "scrolled": true
   },
   "outputs": [
    {
     "data": {
      "text/plain": [
       "age          0\n",
       "job          0\n",
       "marital      0\n",
       "education    0\n",
       "default      0\n",
       "balance      0\n",
       "housing      0\n",
       "loan         0\n",
       "contact      0\n",
       "day          0\n",
       "month        0\n",
       "duration     0\n",
       "campaign     0\n",
       "pdays        0\n",
       "previous     0\n",
       "poutcome     0\n",
       "y            0\n",
       "dtype: int64"
      ]
     },
     "execution_count": 63,
     "metadata": {},
     "output_type": "execute_result"
    }
   ],
   "source": [
    "dataset.isnull().sum()"
   ]
  },
  {
   "cell_type": "markdown",
   "metadata": {},
   "source": [
    "### Get Dummies for Categorical Features:"
   ]
  },
  {
   "cell_type": "markdown",
   "metadata": {},
   "source": [
    "#### First Check how many Categorical Variables are in the dataframe:"
   ]
  },
  {
   "cell_type": "code",
   "execution_count": 64,
   "metadata": {
    "scrolled": true
   },
   "outputs": [],
   "source": [
    "categorical_var = []\n",
    "for i in dataset.columns:\n",
    "    if (dataset[i].dtype=='O'):\n",
    "        categorical_var.append(i)"
   ]
  },
  {
   "cell_type": "code",
   "execution_count": 65,
   "metadata": {},
   "outputs": [],
   "source": [
    "categorical_var.remove('y') #its a dependent variable"
   ]
  },
  {
   "cell_type": "code",
   "execution_count": 66,
   "metadata": {
    "scrolled": true
   },
   "outputs": [
    {
     "data": {
      "text/plain": [
       "['job',\n",
       " 'marital',\n",
       " 'education',\n",
       " 'default',\n",
       " 'housing',\n",
       " 'loan',\n",
       " 'contact',\n",
       " 'month',\n",
       " 'poutcome']"
      ]
     },
     "execution_count": 66,
     "metadata": {},
     "output_type": "execute_result"
    }
   ],
   "source": [
    "categorical_var"
   ]
  },
  {
   "cell_type": "markdown",
   "metadata": {},
   "source": [
    "#### Label Encoding for above Features:"
   ]
  },
  {
   "cell_type": "code",
   "execution_count": 67,
   "metadata": {
    "scrolled": false
   },
   "outputs": [],
   "source": [
    "dataset = pd.get_dummies(dataset, columns=categorical_var)"
   ]
  },
  {
   "cell_type": "markdown",
   "metadata": {},
   "source": [
    "#### Data has been prepared for the Clustering and other Dimensionality Reduction Tasks:"
   ]
  },
  {
   "cell_type": "code",
   "execution_count": 68,
   "metadata": {
    "scrolled": true
   },
   "outputs": [
    {
     "data": {
      "text/html": [
       "<div>\n",
       "<style scoped>\n",
       "    .dataframe tbody tr th:only-of-type {\n",
       "        vertical-align: middle;\n",
       "    }\n",
       "\n",
       "    .dataframe tbody tr th {\n",
       "        vertical-align: top;\n",
       "    }\n",
       "\n",
       "    .dataframe thead th {\n",
       "        text-align: right;\n",
       "    }\n",
       "</style>\n",
       "<table border=\"1\" class=\"dataframe\">\n",
       "  <thead>\n",
       "    <tr style=\"text-align: right;\">\n",
       "      <th></th>\n",
       "      <th>age</th>\n",
       "      <th>balance</th>\n",
       "      <th>day</th>\n",
       "      <th>duration</th>\n",
       "      <th>campaign</th>\n",
       "      <th>pdays</th>\n",
       "      <th>previous</th>\n",
       "      <th>y</th>\n",
       "      <th>job_admin.</th>\n",
       "      <th>job_blue-collar</th>\n",
       "      <th>...</th>\n",
       "      <th>month_jun</th>\n",
       "      <th>month_mar</th>\n",
       "      <th>month_may</th>\n",
       "      <th>month_nov</th>\n",
       "      <th>month_oct</th>\n",
       "      <th>month_sep</th>\n",
       "      <th>poutcome_failure</th>\n",
       "      <th>poutcome_other</th>\n",
       "      <th>poutcome_success</th>\n",
       "      <th>poutcome_unknown</th>\n",
       "    </tr>\n",
       "  </thead>\n",
       "  <tbody>\n",
       "    <tr>\n",
       "      <th>0</th>\n",
       "      <td>58</td>\n",
       "      <td>2143</td>\n",
       "      <td>5</td>\n",
       "      <td>261</td>\n",
       "      <td>1</td>\n",
       "      <td>-1</td>\n",
       "      <td>0</td>\n",
       "      <td>no</td>\n",
       "      <td>0</td>\n",
       "      <td>0</td>\n",
       "      <td>...</td>\n",
       "      <td>0</td>\n",
       "      <td>0</td>\n",
       "      <td>1</td>\n",
       "      <td>0</td>\n",
       "      <td>0</td>\n",
       "      <td>0</td>\n",
       "      <td>0</td>\n",
       "      <td>0</td>\n",
       "      <td>0</td>\n",
       "      <td>1</td>\n",
       "    </tr>\n",
       "    <tr>\n",
       "      <th>1</th>\n",
       "      <td>44</td>\n",
       "      <td>29</td>\n",
       "      <td>5</td>\n",
       "      <td>151</td>\n",
       "      <td>1</td>\n",
       "      <td>-1</td>\n",
       "      <td>0</td>\n",
       "      <td>no</td>\n",
       "      <td>0</td>\n",
       "      <td>0</td>\n",
       "      <td>...</td>\n",
       "      <td>0</td>\n",
       "      <td>0</td>\n",
       "      <td>1</td>\n",
       "      <td>0</td>\n",
       "      <td>0</td>\n",
       "      <td>0</td>\n",
       "      <td>0</td>\n",
       "      <td>0</td>\n",
       "      <td>0</td>\n",
       "      <td>1</td>\n",
       "    </tr>\n",
       "    <tr>\n",
       "      <th>2</th>\n",
       "      <td>33</td>\n",
       "      <td>2</td>\n",
       "      <td>5</td>\n",
       "      <td>76</td>\n",
       "      <td>1</td>\n",
       "      <td>-1</td>\n",
       "      <td>0</td>\n",
       "      <td>no</td>\n",
       "      <td>0</td>\n",
       "      <td>0</td>\n",
       "      <td>...</td>\n",
       "      <td>0</td>\n",
       "      <td>0</td>\n",
       "      <td>1</td>\n",
       "      <td>0</td>\n",
       "      <td>0</td>\n",
       "      <td>0</td>\n",
       "      <td>0</td>\n",
       "      <td>0</td>\n",
       "      <td>0</td>\n",
       "      <td>1</td>\n",
       "    </tr>\n",
       "    <tr>\n",
       "      <th>3</th>\n",
       "      <td>47</td>\n",
       "      <td>1506</td>\n",
       "      <td>5</td>\n",
       "      <td>92</td>\n",
       "      <td>1</td>\n",
       "      <td>-1</td>\n",
       "      <td>0</td>\n",
       "      <td>no</td>\n",
       "      <td>0</td>\n",
       "      <td>1</td>\n",
       "      <td>...</td>\n",
       "      <td>0</td>\n",
       "      <td>0</td>\n",
       "      <td>1</td>\n",
       "      <td>0</td>\n",
       "      <td>0</td>\n",
       "      <td>0</td>\n",
       "      <td>0</td>\n",
       "      <td>0</td>\n",
       "      <td>0</td>\n",
       "      <td>1</td>\n",
       "    </tr>\n",
       "    <tr>\n",
       "      <th>4</th>\n",
       "      <td>33</td>\n",
       "      <td>1</td>\n",
       "      <td>5</td>\n",
       "      <td>198</td>\n",
       "      <td>1</td>\n",
       "      <td>-1</td>\n",
       "      <td>0</td>\n",
       "      <td>no</td>\n",
       "      <td>0</td>\n",
       "      <td>0</td>\n",
       "      <td>...</td>\n",
       "      <td>0</td>\n",
       "      <td>0</td>\n",
       "      <td>1</td>\n",
       "      <td>0</td>\n",
       "      <td>0</td>\n",
       "      <td>0</td>\n",
       "      <td>0</td>\n",
       "      <td>0</td>\n",
       "      <td>0</td>\n",
       "      <td>1</td>\n",
       "    </tr>\n",
       "  </tbody>\n",
       "</table>\n",
       "<p>5 rows × 52 columns</p>\n",
       "</div>"
      ],
      "text/plain": [
       "   age  balance  day  duration  campaign  pdays  previous   y  job_admin.  \\\n",
       "0   58     2143    5       261         1     -1         0  no           0   \n",
       "1   44       29    5       151         1     -1         0  no           0   \n",
       "2   33        2    5        76         1     -1         0  no           0   \n",
       "3   47     1506    5        92         1     -1         0  no           0   \n",
       "4   33        1    5       198         1     -1         0  no           0   \n",
       "\n",
       "   job_blue-collar  ...  month_jun  month_mar  month_may  month_nov  \\\n",
       "0                0  ...          0          0          1          0   \n",
       "1                0  ...          0          0          1          0   \n",
       "2                0  ...          0          0          1          0   \n",
       "3                1  ...          0          0          1          0   \n",
       "4                0  ...          0          0          1          0   \n",
       "\n",
       "   month_oct  month_sep  poutcome_failure  poutcome_other  poutcome_success  \\\n",
       "0          0          0                 0               0                 0   \n",
       "1          0          0                 0               0                 0   \n",
       "2          0          0                 0               0                 0   \n",
       "3          0          0                 0               0                 0   \n",
       "4          0          0                 0               0                 0   \n",
       "\n",
       "   poutcome_unknown  \n",
       "0                 1  \n",
       "1                 1  \n",
       "2                 1  \n",
       "3                 1  \n",
       "4                 1  \n",
       "\n",
       "[5 rows x 52 columns]"
      ]
     },
     "execution_count": 68,
     "metadata": {},
     "output_type": "execute_result"
    }
   ],
   "source": [
    "dataset.head()"
   ]
  },
  {
   "cell_type": "code",
   "execution_count": 69,
   "metadata": {
    "scrolled": true
   },
   "outputs": [
    {
     "data": {
      "text/html": [
       "<div>\n",
       "<style scoped>\n",
       "    .dataframe tbody tr th:only-of-type {\n",
       "        vertical-align: middle;\n",
       "    }\n",
       "\n",
       "    .dataframe tbody tr th {\n",
       "        vertical-align: top;\n",
       "    }\n",
       "\n",
       "    .dataframe thead th {\n",
       "        text-align: right;\n",
       "    }\n",
       "</style>\n",
       "<table border=\"1\" class=\"dataframe\">\n",
       "  <thead>\n",
       "    <tr style=\"text-align: right;\">\n",
       "      <th></th>\n",
       "      <th>age</th>\n",
       "      <th>balance</th>\n",
       "      <th>day</th>\n",
       "      <th>duration</th>\n",
       "      <th>campaign</th>\n",
       "      <th>pdays</th>\n",
       "      <th>previous</th>\n",
       "      <th>job_admin.</th>\n",
       "      <th>job_blue-collar</th>\n",
       "      <th>job_entrepreneur</th>\n",
       "      <th>...</th>\n",
       "      <th>month_jun</th>\n",
       "      <th>month_mar</th>\n",
       "      <th>month_may</th>\n",
       "      <th>month_nov</th>\n",
       "      <th>month_oct</th>\n",
       "      <th>month_sep</th>\n",
       "      <th>poutcome_failure</th>\n",
       "      <th>poutcome_other</th>\n",
       "      <th>poutcome_success</th>\n",
       "      <th>poutcome_unknown</th>\n",
       "    </tr>\n",
       "  </thead>\n",
       "  <tbody>\n",
       "    <tr>\n",
       "      <th>0</th>\n",
       "      <td>58</td>\n",
       "      <td>2143</td>\n",
       "      <td>5</td>\n",
       "      <td>261</td>\n",
       "      <td>1</td>\n",
       "      <td>-1</td>\n",
       "      <td>0</td>\n",
       "      <td>0</td>\n",
       "      <td>0</td>\n",
       "      <td>0</td>\n",
       "      <td>...</td>\n",
       "      <td>0</td>\n",
       "      <td>0</td>\n",
       "      <td>1</td>\n",
       "      <td>0</td>\n",
       "      <td>0</td>\n",
       "      <td>0</td>\n",
       "      <td>0</td>\n",
       "      <td>0</td>\n",
       "      <td>0</td>\n",
       "      <td>1</td>\n",
       "    </tr>\n",
       "    <tr>\n",
       "      <th>1</th>\n",
       "      <td>44</td>\n",
       "      <td>29</td>\n",
       "      <td>5</td>\n",
       "      <td>151</td>\n",
       "      <td>1</td>\n",
       "      <td>-1</td>\n",
       "      <td>0</td>\n",
       "      <td>0</td>\n",
       "      <td>0</td>\n",
       "      <td>0</td>\n",
       "      <td>...</td>\n",
       "      <td>0</td>\n",
       "      <td>0</td>\n",
       "      <td>1</td>\n",
       "      <td>0</td>\n",
       "      <td>0</td>\n",
       "      <td>0</td>\n",
       "      <td>0</td>\n",
       "      <td>0</td>\n",
       "      <td>0</td>\n",
       "      <td>1</td>\n",
       "    </tr>\n",
       "    <tr>\n",
       "      <th>2</th>\n",
       "      <td>33</td>\n",
       "      <td>2</td>\n",
       "      <td>5</td>\n",
       "      <td>76</td>\n",
       "      <td>1</td>\n",
       "      <td>-1</td>\n",
       "      <td>0</td>\n",
       "      <td>0</td>\n",
       "      <td>0</td>\n",
       "      <td>1</td>\n",
       "      <td>...</td>\n",
       "      <td>0</td>\n",
       "      <td>0</td>\n",
       "      <td>1</td>\n",
       "      <td>0</td>\n",
       "      <td>0</td>\n",
       "      <td>0</td>\n",
       "      <td>0</td>\n",
       "      <td>0</td>\n",
       "      <td>0</td>\n",
       "      <td>1</td>\n",
       "    </tr>\n",
       "    <tr>\n",
       "      <th>3</th>\n",
       "      <td>47</td>\n",
       "      <td>1506</td>\n",
       "      <td>5</td>\n",
       "      <td>92</td>\n",
       "      <td>1</td>\n",
       "      <td>-1</td>\n",
       "      <td>0</td>\n",
       "      <td>0</td>\n",
       "      <td>1</td>\n",
       "      <td>0</td>\n",
       "      <td>...</td>\n",
       "      <td>0</td>\n",
       "      <td>0</td>\n",
       "      <td>1</td>\n",
       "      <td>0</td>\n",
       "      <td>0</td>\n",
       "      <td>0</td>\n",
       "      <td>0</td>\n",
       "      <td>0</td>\n",
       "      <td>0</td>\n",
       "      <td>1</td>\n",
       "    </tr>\n",
       "    <tr>\n",
       "      <th>4</th>\n",
       "      <td>33</td>\n",
       "      <td>1</td>\n",
       "      <td>5</td>\n",
       "      <td>198</td>\n",
       "      <td>1</td>\n",
       "      <td>-1</td>\n",
       "      <td>0</td>\n",
       "      <td>0</td>\n",
       "      <td>0</td>\n",
       "      <td>0</td>\n",
       "      <td>...</td>\n",
       "      <td>0</td>\n",
       "      <td>0</td>\n",
       "      <td>1</td>\n",
       "      <td>0</td>\n",
       "      <td>0</td>\n",
       "      <td>0</td>\n",
       "      <td>0</td>\n",
       "      <td>0</td>\n",
       "      <td>0</td>\n",
       "      <td>1</td>\n",
       "    </tr>\n",
       "  </tbody>\n",
       "</table>\n",
       "<p>5 rows × 51 columns</p>\n",
       "</div>"
      ],
      "text/plain": [
       "   age  balance  day  duration  campaign  pdays  previous  job_admin.  \\\n",
       "0   58     2143    5       261         1     -1         0           0   \n",
       "1   44       29    5       151         1     -1         0           0   \n",
       "2   33        2    5        76         1     -1         0           0   \n",
       "3   47     1506    5        92         1     -1         0           0   \n",
       "4   33        1    5       198         1     -1         0           0   \n",
       "\n",
       "   job_blue-collar  job_entrepreneur  ...  month_jun  month_mar  month_may  \\\n",
       "0                0                 0  ...          0          0          1   \n",
       "1                0                 0  ...          0          0          1   \n",
       "2                0                 1  ...          0          0          1   \n",
       "3                1                 0  ...          0          0          1   \n",
       "4                0                 0  ...          0          0          1   \n",
       "\n",
       "   month_nov  month_oct  month_sep  poutcome_failure  poutcome_other  \\\n",
       "0          0          0          0                 0               0   \n",
       "1          0          0          0                 0               0   \n",
       "2          0          0          0                 0               0   \n",
       "3          0          0          0                 0               0   \n",
       "4          0          0          0                 0               0   \n",
       "\n",
       "   poutcome_success  poutcome_unknown  \n",
       "0                 0                 1  \n",
       "1                 0                 1  \n",
       "2                 0                 1  \n",
       "3                 0                 1  \n",
       "4                 0                 1  \n",
       "\n",
       "[5 rows x 51 columns]"
      ]
     },
     "execution_count": 69,
     "metadata": {},
     "output_type": "execute_result"
    }
   ],
   "source": [
    "bank_data = dataset.drop(columns=['y'], axis=1)\n",
    "bank_data.head()"
   ]
  },
  {
   "cell_type": "markdown",
   "metadata": {},
   "source": [
    "### 1. K-Means Clustering"
   ]
  },
  {
   "cell_type": "markdown",
   "metadata": {},
   "source": [
    "Implementing the Elbow Method to find optimum number of clusters based on WCSS - Within Cluster Sum of Square"
   ]
  },
  {
   "cell_type": "code",
   "execution_count": 70,
   "metadata": {},
   "outputs": [],
   "source": [
    "from sklearn.cluster import KMeans\n",
    "\n",
    "wcss=[] #Withing Cluster Sum of Square\n",
    "\n",
    "#As mentioned during the lecture max number of cluster would be 10 (but again it depends)\n",
    "#k-means++: selects initial cluster centers for k-mean clustering in a smart way to speed up convergence\n",
    "\n",
    "for i in range(1,15):\n",
    "    kmeans = KMeans(n_clusters= i, init='k-means++', random_state=0, max_iter=300)\n",
    "    kmeans.fit(bank_data)\n",
    "    wcss.append(kmeans.inertia_)\n",
    "    \n",
    "#inertia_ is the formula used to segregate the data points into clusters"
   ]
  },
  {
   "cell_type": "code",
   "execution_count": 71,
   "metadata": {},
   "outputs": [
    {
     "data": {
      "image/png": "[encoded data removed]",
      "text/plain": [
       "<Figure size 432x288 with 1 Axes>"
      ]
     },
     "metadata": {},
     "output_type": "display_data"
    }
   ],
   "source": [
    "#Visualizing the ELBOW method to get the optimal value of K \n",
    "\n",
    "plt.plot(range(1,15), wcss)\n",
    "plt.title('The Elbow Method')\n",
    "plt.xlabel('no of clusters')\n",
    "plt.ylabel('Within Cluster Sum of Square')\n",
    "plt.show()"
   ]
  },
  {
   "cell_type": "markdown",
   "metadata": {},
   "source": [
    "By observing the plot closely the last elbow that I am getting for my data is at 5 (So for this data K = 5)"
   ]
  },
  {
   "cell_type": "code",
   "execution_count": 72,
   "metadata": {},
   "outputs": [
    {
     "data": {
      "text/plain": [
       "KMeans(algorithm='auto', copy_x=True, init='k-means++', max_iter=300,\n",
       "    n_clusters=5, n_init=10, n_jobs=1, precompute_distances='auto',\n",
       "    random_state=0, tol=0.0001, verbose=0)"
      ]
     },
     "execution_count": 72,
     "metadata": {},
     "output_type": "execute_result"
    }
   ],
   "source": [
    "## Run the model for k=5\n",
    "\n",
    "kmeans = KMeans(n_clusters= 5, init='k-means++', random_state=0, max_iter=300)\n",
    "kmeans.fit(bank_data)"
   ]
  },
  {
   "cell_type": "code",
   "execution_count": 106,
   "metadata": {
    "scrolled": true
   },
   "outputs": [
    {
     "name": "stdout",
     "output_type": "stream",
     "text": [
      "[3 0 0 ... 3 0 3]\n",
      "[[-4.42480598e-01 -3.84735206e+02  8.50429188e-01  1.99461589e+00\n",
      "  -3.81915118e+01  3.85223703e+02 -7.51140507e+01 -3.85790394e+02]\n",
      " [-8.49242736e-01 -8.36595900e+03  8.92933681e-01  1.99503776e+00\n",
      "  -3.86806855e+01  8.36618674e+03 -7.86349621e+01 -8.36657614e+03]\n",
      " [-8.43586319e-01 -5.46379386e+04  1.82214645e+00  2.83445003e+00\n",
      "  -1.98411502e+01  5.46387147e+04 -6.92078216e+01 -5.46389846e+04]\n",
      " [-6.77771098e-01 -3.11347957e+03  8.17280552e-01  1.89878152e+00\n",
      "  -3.97654411e+01  3.11380365e+03 -7.95589993e+01 -3.11424330e+03]\n",
      " [-1.11632798e+00 -2.03778934e+04  1.00499608e+00  2.01901908e+00\n",
      "  -3.20064172e+01  2.03783507e+04 -7.33376334e+01 -2.03786426e+04]]\n"
     ]
    }
   ],
   "source": [
    "kmean_clus = kmeans.labels_\n",
    "kmean_center = kmeans.cluster_centers_\n",
    "\n",
    "print(kmean_clus)\n",
    "print(kmean_center)\n",
    "\n",
    "## Add the column of clusters i.e. 'kmean_clus' to the original Dataset:\n",
    "\n",
    "dataset['kmean_clus'] = kmean_clus"
   ]
  },
  {
   "cell_type": "code",
   "execution_count": 76,
   "metadata": {},
   "outputs": [
    {
     "data": {
      "image/png": "[encoded data removed]",
      "text/plain": [
       "<Figure size 432x288 with 1 Axes>"
      ]
     },
     "metadata": {},
     "output_type": "display_data"
    }
   ],
   "source": [
    "# Frequency distribution of k means clusters\n",
    "dataset['kmean_clus'].value_counts()\n",
    "\n",
    "# Cluster size plot for k means clusters\n",
    "sizes=dataset['kmean_clus'].value_counts()\n",
    "fig = plt.figure()\n",
    "ax = fig.add_axes([0,0,1,1])\n",
    "clust = ['Cluster0', 'Cluster1', 'Cluster2', 'Cluster3', 'Cluster4']\n",
    "\n",
    "plt.xlabel('Clusters', fontsize=14)\n",
    "plt.ylabel('Size of Clusters', fontsize=14)\n",
    "\n",
    "ax.bar(clust,sizes)\n",
    "plt.show()"
   ]
  },
  {
   "cell_type": "code",
   "execution_count": 77,
   "metadata": {},
   "outputs": [
    {
     "data": {
      "text/plain": [
       "<matplotlib.colorbar.Colorbar at 0x2a414773080>"
      ]
     },
     "execution_count": 77,
     "metadata": {},
     "output_type": "execute_result"
    },
    {
     "data": {
      "image/png": "[encoded data removed]",
      "text/plain": [
       "<Figure size 720x576 with 2 Axes>"
      ]
     },
     "metadata": {},
     "output_type": "display_data"
    }
   ],
   "source": [
    "plot_set=pd.DataFrame()\n",
    "plot_set['x']=dataset['age']\n",
    "plot_set['y']=dataset['balance']\n",
    "plot_set['label']=dataset['kmean_clus']\n",
    "x = plot_set['x']\n",
    "y = plot_set['y']\n",
    "cluster = plot_set['label']  # Labels of cluster\n",
    "\n",
    "sns.set(rc={'figure.figsize':(10,8)})\n",
    "fig = plt.figure()\n",
    "ax = fig.add_subplot(111)\n",
    "scatter = ax.scatter(x,y,c=cluster,s=4)\n",
    "ax.set_title('K-MeansClustering Plot')\n",
    "ax.set_xlabel('Age')\n",
    "ax.set_ylabel('Balance')\n",
    "plt.colorbar(scatter)"
   ]
  },
  {
   "cell_type": "markdown",
   "metadata": {},
   "source": [
    "### 2. Expectation Maximization Clustering:"
   ]
  },
  {
   "cell_type": "markdown",
   "metadata": {},
   "source": [
    "Kind of similar to K-Means, but, instead of assigning examples to clusters to maximize the differences in means for continuous variables, the EM clustering algorithm computes probabilities of cluster memberships based on one or more probability distributions,"
   ]
  },
  {
   "cell_type": "markdown",
   "metadata": {},
   "source": [
    "#### I will be using Gaussian Mixture Model for EM Clustering"
   ]
  },
  {
   "cell_type": "code",
   "execution_count": 92,
   "metadata": {},
   "outputs": [],
   "source": [
    "gmm = GaussianMixture(n_components = 5).fit(bank_data)\n",
    "em_clus = gmm.predict(bank_data)\n",
    "gmm_centers=gmm.means_\n",
    "## Add the column of clusters from GMM i.e. 'em_clus' to the original Dataset:\n",
    "\n",
    "dataset['em_clus'] = em_clus"
   ]
  },
  {
   "cell_type": "code",
   "execution_count": 93,
   "metadata": {},
   "outputs": [
    {
     "data": {
      "text/plain": [
       "<matplotlib.colorbar.Colorbar at 0x2a4159e5ef0>"
      ]
     },
     "execution_count": 93,
     "metadata": {},
     "output_type": "execute_result"
    },
    {
     "data": {
      "image/png": "[encoded data removed]",
      "text/plain": [
       "<Figure size 720x576 with 2 Axes>"
      ]
     },
     "metadata": {},
     "output_type": "display_data"
    }
   ],
   "source": [
    "plot_set=pd.DataFrame()\n",
    "plot_set['x']=principal_components[:,0]\n",
    "plot_set['y']=principal_components[:,1]\n",
    "plot_set['label']=dataset['em_clus']\n",
    "x = plot_set['x']\n",
    "y = plot_set['y']\n",
    "cluster = plot_set['label']  # Labels of cluster from EM\n",
    "\n",
    "sns.set(rc={'figure.figsize':(10,8)})\n",
    "\n",
    "fig = plt.figure()\n",
    "ax = fig.add_subplot(111)\n",
    "scatter = ax.scatter(x,y,c=cluster,s=2)\n",
    "ax.set_title('Expectation Maximization Clustering Plot')\n",
    "ax.set_xlabel('PC1')\n",
    "ax.set_ylabel('PC2')\n",
    "plt.colorbar(scatter)"
   ]
  },
  {
   "cell_type": "markdown",
   "metadata": {},
   "source": [
    "## Applying Dimensionality Reduction Techniques to the data:"
   ]
  },
  {
   "cell_type": "markdown",
   "metadata": {},
   "source": [
    "#### A. Feature Selection: Applying Forward Selection:"
   ]
  },
  {
   "cell_type": "code",
   "execution_count": 80,
   "metadata": {},
   "outputs": [],
   "source": [
    "#Preparing the dataframe that we will use for Forward Selection\n",
    "\n",
    "f_selection_df = dataset\n",
    "f_selection_df.drop(columns=['kmean_clus','em_clus'],axis=1,inplace=True)"
   ]
  },
  {
   "cell_type": "code",
   "execution_count": 81,
   "metadata": {},
   "outputs": [],
   "source": [
    "# Train Test Split:\n",
    "\n",
    "from sklearn.model_selection import train_test_split\n",
    "\n",
    "x = f_selection_df.drop(columns=['y'],axis=1)\n",
    "y = f_selection_df[['y']]\n",
    "\n",
    "xTrain, xTest, yTrain, yTest = train_test_split(x,y, test_size = 0.3, random_state = 0)"
   ]
  },
  {
   "cell_type": "markdown",
   "metadata": {},
   "source": [
    "##### Implementing Forward Selection"
   ]
  },
  {
   "cell_type": "code",
   "execution_count": 82,
   "metadata": {},
   "outputs": [],
   "source": [
    "from sklearn.linear_model import LogisticRegression\n",
    "from mlxtend.feature_selection import SequentialFeatureSelector as sfs\n",
    "\n",
    "clf = LogisticRegression() #part of feedback loop (Wrapping Process that we studied in Lecture)\n",
    "\n",
    "# Build step forward feature selection\n",
    "sfs1 = sfs(clf, k_features=20,forward=True, floating=False, verbose=0, scoring='accuracy', cv=5)\n",
    "\n",
    "# Perform SFFS\n",
    "sfs1 = sfs1.fit(xTrain, yTrain)\n",
    "f_selection_features = list(sfs1.k_feature_names_)\n",
    "\n",
    "# Fitting the kmeans model for the column subset i.e features of Forward Selection\n",
    "kmeans.fit(bank_data[f_selection_features])\n",
    "f_selection_clus = kmeans.labels_\n",
    "\n",
    "## Add the column of clusters i.e. 'f_selection clus' to the original Dataset:\n",
    "\n",
    "dataset['f_selection_clus'] = f_selection_clus"
   ]
  },
  {
   "cell_type": "code",
   "execution_count": 90,
   "metadata": {},
   "outputs": [
    {
     "data": {
      "text/plain": [
       "<matplotlib.colorbar.Colorbar at 0x2a41483e780>"
      ]
     },
     "execution_count": 90,
     "metadata": {},
     "output_type": "execute_result"
    },
    {
     "data": {
      "image/png": "[encoded data removed]",
      "text/plain": [
       "<Figure size 720x576 with 2 Axes>"
      ]
     },
     "metadata": {},
     "output_type": "display_data"
    }
   ],
   "source": [
    "# kmeans plot - Kmeans followed by Forward Selection\n",
    "\n",
    "sizes=dataset['f_selection_clus'].value_counts()\n",
    "plot_set=pd.DataFrame()\n",
    "plot_set['x']=principal_components[:,0]\n",
    "plot_set['y']=principal_components[:,1]\n",
    "plot_set['label']=dataset['f_selection_clus']\n",
    "x = plot_set['x']\n",
    "y = plot_set['y']\n",
    "cluster = plot_set['label']  # Labels of cluster 0 to 3\n",
    "\n",
    "sns.set(rc={'figure.figsize':(10,8)})\n",
    "\n",
    "fig = plt.figure()\n",
    "ax = fig.add_subplot(111)\n",
    "scatter = ax.scatter(x,y,c=cluster,s=2)\n",
    "ax.set_title('K means after Forward Selection plot')\n",
    "ax.set_xlabel('PC1')\n",
    "ax.set_ylabel('PC2')\n",
    "plt.colorbar(scatter)"
   ]
  },
  {
   "cell_type": "code",
   "execution_count": 85,
   "metadata": {},
   "outputs": [
    {
     "data": {
      "image/png": "[encoded data removed]",
      "text/plain": [
       "<Figure size 360x360 with 1 Axes>"
      ]
     },
     "metadata": {},
     "output_type": "display_data"
    }
   ],
   "source": [
    "# K means cluster size analysis after Forward Selection:\n",
    "\n",
    "sizes=dataset['f_selection_clus'].value_counts()\n",
    "fig = plt.figure()\n",
    "ax = fig.add_axes([0,0,1,1])\n",
    "clust = ['Cluster0', 'Cluster1', 'Cluster2', 'Cluster3', 'Cluster4']\n",
    "sns.set(rc={'figure.figsize':(5,5)})\n",
    "\n",
    "plt.xlabel('Clusters', fontsize=14)\n",
    "plt.ylabel('Size of Clusters', fontsize=14)\n",
    "\n",
    "ax.bar(clust,sizes)\n",
    "plt.show()"
   ]
  },
  {
   "cell_type": "markdown",
   "metadata": {},
   "source": [
    "#### B. Principal Component Analysis"
   ]
  },
  {
   "cell_type": "code",
   "execution_count": 87,
   "metadata": {},
   "outputs": [
    {
     "name": "stdout",
     "output_type": "stream",
     "text": [
      "Explained Variance Ratio [9.91814030e-01 7.09197095e-03 1.07280537e-03 1.19542646e-05\n",
      " 7.36501778e-06]\n"
     ]
    }
   ],
   "source": [
    "from sklearn.decomposition import PCA\n",
    "\n",
    "pca = PCA(n_components=5)\n",
    "principal_components = pca.fit_transform(bank_data)\n",
    "\n",
    "explained_var = pca.explained_variance_ratio_\n",
    "print('Explained Variance Ratio', explained_var)"
   ]
  },
  {
   "cell_type": "code",
   "execution_count": 88,
   "metadata": {},
   "outputs": [],
   "source": [
    "# Fitting the kmeans model for the principal components\n",
    "\n",
    "kmeans.fit(principal_components)\n",
    "pca_clus = kmeans.labels_\n",
    "\n",
    "## Add the column of clusters i.e. 'pca_cluster' to the original Dataset:\n",
    "\n",
    "dataset['pca_clusters'] = pca_clus"
   ]
  },
  {
   "cell_type": "code",
   "execution_count": 89,
   "metadata": {},
   "outputs": [
    {
     "data": {
      "text/plain": [
       "<matplotlib.colorbar.Colorbar at 0x2a41426ed30>"
      ]
     },
     "execution_count": 89,
     "metadata": {},
     "output_type": "execute_result"
    },
    {
     "data": {
      "image/png": "[encoded data removed]",
      "text/plain": [
       "<Figure size 720x576 with 2 Axes>"
      ]
     },
     "metadata": {},
     "output_type": "display_data"
    }
   ],
   "source": [
    "# kmeans plot - Kmeans followed by PCA\n",
    "sizes=dataset['pca_clusters'].value_counts()\n",
    "plot_set=pd.DataFrame()\n",
    "plot_set['x']=principal_components[:,0]\n",
    "plot_set['y']=principal_components[:,1]\n",
    "plot_set['label']=dataset['pca_clusters']\n",
    "x = plot_set['x']\n",
    "y = plot_set['y']\n",
    "cluster = plot_set['label']  # Labels of cluster\n",
    "\n",
    "sns.set(rc={'figure.figsize':(10,8)})\n",
    "\n",
    "fig = plt.figure()\n",
    "ax = fig.add_subplot(111)\n",
    "scatter = ax.scatter(x,y,c=cluster,s=2)\n",
    "ax.set_title('K means after PCA plot')\n",
    "ax.set_xlabel('PC1')\n",
    "ax.set_ylabel('PC2')\n",
    "plt.colorbar(scatter)"
   ]
  },
  {
   "cell_type": "markdown",
   "metadata": {},
   "source": [
    "#### C. Independent Component Analysis:"
   ]
  },
  {
   "cell_type": "code",
   "execution_count": 95,
   "metadata": {},
   "outputs": [
    {
     "data": {
      "text/plain": [
       "(45211, 8)"
      ]
     },
     "execution_count": 95,
     "metadata": {},
     "output_type": "execute_result"
    }
   ],
   "source": [
    "from sklearn.decomposition import FastICA\n",
    "\n",
    "fast_ICA = FastICA(n_components=8, random_state=0)\n",
    "transformed_bank_data = fast_ICA.fit_transform(bank_data)\n",
    "transformed_bank_data.shape"
   ]
  },
  {
   "cell_type": "code",
   "execution_count": 96,
   "metadata": {},
   "outputs": [],
   "source": [
    "# Fitting the kmeans model for the principal components\n",
    "\n",
    "kmeans.fit(transformed_bank_data)\n",
    "ica_clus = kmeans.labels_\n",
    "\n",
    "## Add the column of clusters i.e. 'ica_cluster' to the original Dataset:\n",
    "\n",
    "dataset['ica_clusters'] = ica_clus"
   ]
  },
  {
   "cell_type": "code",
   "execution_count": 97,
   "metadata": {},
   "outputs": [
    {
     "data": {
      "text/plain": [
       "<matplotlib.colorbar.Colorbar at 0x2a416aa0fd0>"
      ]
     },
     "execution_count": 97,
     "metadata": {},
     "output_type": "execute_result"
    },
    {
     "data": {
      "image/png": "[encoded data removed]",
      "text/plain": [
       "<Figure size 720x576 with 2 Axes>"
      ]
     },
     "metadata": {},
     "output_type": "display_data"
    }
   ],
   "source": [
    "# kmeans plot - Kmeans followed by ICA\n",
    "\n",
    "sizes=dataset['ica_clusters'].value_counts()\n",
    "plot_set=pd.DataFrame()\n",
    "plot_set['x']=principal_components[:,0]\n",
    "plot_set['y']=principal_components[:,1]\n",
    "plot_set['label']=dataset['ica_clusters']\n",
    "x = plot_set['x']\n",
    "y = plot_set['y']\n",
    "cluster = plot_set['label']  # Labels of cluster 0 to 3\n",
    "\n",
    "sns.set(rc={'figure.figsize':(10,8)})\n",
    "\n",
    "fig = plt.figure()\n",
    "ax = fig.add_subplot(111)\n",
    "scatter = ax.scatter(x,y,c=cluster,s=2)\n",
    "ax.set_title('K means after ICA plot')\n",
    "ax.set_xlabel('PC1')\n",
    "ax.set_ylabel('PC2')\n",
    "plt.colorbar(scatter)"
   ]
  },
  {
   "cell_type": "code",
   "execution_count": 99,
   "metadata": {},
   "outputs": [
    {
     "data": {
      "image/png": "[encoded data removed]",
      "text/plain": [
       "<Figure size 360x360 with 1 Axes>"
      ]
     },
     "metadata": {},
     "output_type": "display_data"
    }
   ],
   "source": [
    "# K means cluster size analysis after ICA\n",
    "\n",
    "sizes=dataset['ica_clusters'].value_counts()\n",
    "fig = plt.figure()\n",
    "ax = fig.add_axes([0,0,1,1])\n",
    "clust = ['Cluster0', 'Cluster1', 'Cluster2', 'Cluster3', 'Cluster4']\n",
    "\n",
    "sns.set(rc={'figure.figsize':(5,5)})\n",
    "\n",
    "plt.xlabel('Clusters', fontsize=14)\n",
    "plt.ylabel('Size of Clusters', fontsize=14)\n",
    "\n",
    "ax.bar(clust,sizes)\n",
    "plt.show()"
   ]
  },
  {
   "cell_type": "markdown",
   "metadata": {},
   "source": [
    "#### D. Randomized Projection:"
   ]
  },
  {
   "cell_type": "code",
   "execution_count": 100,
   "metadata": {},
   "outputs": [
    {
     "data": {
      "text/plain": [
       "(45211, 8)"
      ]
     },
     "execution_count": 100,
     "metadata": {},
     "output_type": "execute_result"
    }
   ],
   "source": [
    "from sklearn import random_projection\n",
    "\n",
    "rand_projection = random_projection.SparseRandomProjection(n_components = 8)\n",
    "transformed_bnk_data = rand_projection.fit_transform(bank_data)\n",
    "transformed_bnk_data.shape"
   ]
  },
  {
   "cell_type": "code",
   "execution_count": 101,
   "metadata": {},
   "outputs": [],
   "source": [
    "# Fitting the kmeans model for the principal components\n",
    "\n",
    "kmeans.fit(transformed_bnk_data)\n",
    "rp_clusters=kmeans.labels_\n",
    "\n",
    "## Add the column of clusters i.e. 'rand_proj_cluster' to the original Dataset:\n",
    "\n",
    "dataset['rand_proj_cluster'] = rp_clusters"
   ]
  },
  {
   "cell_type": "code",
   "execution_count": 102,
   "metadata": {},
   "outputs": [
    {
     "data": {
      "text/plain": [
       "<matplotlib.colorbar.Colorbar at 0x2a41ad59400>"
      ]
     },
     "execution_count": 102,
     "metadata": {},
     "output_type": "execute_result"
    },
    {
     "data": {
      "image/png": "[encoded data removed]",
      "text/plain": [
       "<Figure size 720x576 with 2 Axes>"
      ]
     },
     "metadata": {},
     "output_type": "display_data"
    }
   ],
   "source": [
    "# kmeans plot - Kmeans followed by RCA (Randomized Projections)\n",
    "\n",
    "sizes=dataset['rand_proj_cluster'].value_counts()\n",
    "plot_set=pd.DataFrame()\n",
    "plot_set['x']=principal_components[:,0]\n",
    "plot_set['y']=principal_components[:,1]\n",
    "plot_set['label']=dataset['rand_proj_cluster']\n",
    "x = plot_set['x']\n",
    "y = plot_set['y']\n",
    "cluster = plot_set['label']  # Labels of cluster 0 to 3\n",
    "\n",
    "sns.set(rc={'figure.figsize':(10,8)})\n",
    "\n",
    "fig = plt.figure()\n",
    "ax = fig.add_subplot(111)\n",
    "scatter = ax.scatter(x,y,c=cluster,s=2)\n",
    "ax.set_title('K means after Randomized Projections plot')\n",
    "ax.set_xlabel('pc1')\n",
    "ax.set_ylabel('pc2')\n",
    "plt.colorbar(scatter)"
   ]
  },
  {
   "cell_type": "code",
   "execution_count": 104,
   "metadata": {},
   "outputs": [
    {
     "data": {
      "image/png": "[encoded data removed]",
      "text/plain": [
       "<Figure size 360x360 with 1 Axes>"
      ]
     },
     "metadata": {},
     "output_type": "display_data"
    }
   ],
   "source": [
    "# K means cluster size analysis after RCA (Randomized Projections)\n",
    "\n",
    "sizes=dataset['rand_proj_cluster'].value_counts()\n",
    "fig = plt.figure()\n",
    "ax = fig.add_axes([0,0,1,1])\n",
    "clust = ['Cluster0', 'Cluster1', 'Cluster2', 'Cluster3', 'Cluster4']\n",
    "\n",
    "sns.set(rc={'figure.figsize':(5,5)})\n",
    "\n",
    "plt.xlabel('Clusters', fontsize=14)\n",
    "plt.ylabel('Size of Clusters', fontsize=14)\n",
    "\n",
    "ax.bar(clust,sizes)\n",
    "plt.show()"
   ]
  },
  {
   "cell_type": "markdown",
   "metadata": {},
   "source": [
    "##### Final overview of Dataset:"
   ]
  },
  {
   "cell_type": "code",
   "execution_count": 108,
   "metadata": {},
   "outputs": [
    {
     "data": {
      "text/html": [
       "<div>\n",
       "<style scoped>\n",
       "    .dataframe tbody tr th:only-of-type {\n",
       "        vertical-align: middle;\n",
       "    }\n",
       "\n",
       "    .dataframe tbody tr th {\n",
       "        vertical-align: top;\n",
       "    }\n",
       "\n",
       "    .dataframe thead th {\n",
       "        text-align: right;\n",
       "    }\n",
       "</style>\n",
       "<table border=\"1\" class=\"dataframe\">\n",
       "  <thead>\n",
       "    <tr style=\"text-align: right;\">\n",
       "      <th></th>\n",
       "      <th>age</th>\n",
       "      <th>balance</th>\n",
       "      <th>day</th>\n",
       "      <th>duration</th>\n",
       "      <th>campaign</th>\n",
       "      <th>pdays</th>\n",
       "      <th>previous</th>\n",
       "      <th>y</th>\n",
       "      <th>job_admin.</th>\n",
       "      <th>job_blue-collar</th>\n",
       "      <th>...</th>\n",
       "      <th>poutcome_failure</th>\n",
       "      <th>poutcome_other</th>\n",
       "      <th>poutcome_success</th>\n",
       "      <th>poutcome_unknown</th>\n",
       "      <th>f_selection_clus</th>\n",
       "      <th>pca_clusters</th>\n",
       "      <th>em_clus</th>\n",
       "      <th>ica_clusters</th>\n",
       "      <th>rand_proj_cluster</th>\n",
       "      <th>kmean_clus</th>\n",
       "    </tr>\n",
       "  </thead>\n",
       "  <tbody>\n",
       "    <tr>\n",
       "      <th>0</th>\n",
       "      <td>58</td>\n",
       "      <td>2143</td>\n",
       "      <td>5</td>\n",
       "      <td>261</td>\n",
       "      <td>1</td>\n",
       "      <td>-1</td>\n",
       "      <td>0</td>\n",
       "      <td>no</td>\n",
       "      <td>0</td>\n",
       "      <td>0</td>\n",
       "      <td>...</td>\n",
       "      <td>0</td>\n",
       "      <td>0</td>\n",
       "      <td>0</td>\n",
       "      <td>1</td>\n",
       "      <td>0</td>\n",
       "      <td>3</td>\n",
       "      <td>1</td>\n",
       "      <td>0</td>\n",
       "      <td>3</td>\n",
       "      <td>3</td>\n",
       "    </tr>\n",
       "    <tr>\n",
       "      <th>1</th>\n",
       "      <td>44</td>\n",
       "      <td>29</td>\n",
       "      <td>5</td>\n",
       "      <td>151</td>\n",
       "      <td>1</td>\n",
       "      <td>-1</td>\n",
       "      <td>0</td>\n",
       "      <td>no</td>\n",
       "      <td>0</td>\n",
       "      <td>0</td>\n",
       "      <td>...</td>\n",
       "      <td>0</td>\n",
       "      <td>0</td>\n",
       "      <td>0</td>\n",
       "      <td>1</td>\n",
       "      <td>4</td>\n",
       "      <td>0</td>\n",
       "      <td>1</td>\n",
       "      <td>0</td>\n",
       "      <td>0</td>\n",
       "      <td>0</td>\n",
       "    </tr>\n",
       "    <tr>\n",
       "      <th>2</th>\n",
       "      <td>33</td>\n",
       "      <td>2</td>\n",
       "      <td>5</td>\n",
       "      <td>76</td>\n",
       "      <td>1</td>\n",
       "      <td>-1</td>\n",
       "      <td>0</td>\n",
       "      <td>no</td>\n",
       "      <td>0</td>\n",
       "      <td>0</td>\n",
       "      <td>...</td>\n",
       "      <td>0</td>\n",
       "      <td>0</td>\n",
       "      <td>0</td>\n",
       "      <td>1</td>\n",
       "      <td>4</td>\n",
       "      <td>0</td>\n",
       "      <td>1</td>\n",
       "      <td>0</td>\n",
       "      <td>0</td>\n",
       "      <td>0</td>\n",
       "    </tr>\n",
       "    <tr>\n",
       "      <th>3</th>\n",
       "      <td>47</td>\n",
       "      <td>1506</td>\n",
       "      <td>5</td>\n",
       "      <td>92</td>\n",
       "      <td>1</td>\n",
       "      <td>-1</td>\n",
       "      <td>0</td>\n",
       "      <td>no</td>\n",
       "      <td>0</td>\n",
       "      <td>1</td>\n",
       "      <td>...</td>\n",
       "      <td>0</td>\n",
       "      <td>0</td>\n",
       "      <td>0</td>\n",
       "      <td>1</td>\n",
       "      <td>4</td>\n",
       "      <td>0</td>\n",
       "      <td>1</td>\n",
       "      <td>0</td>\n",
       "      <td>0</td>\n",
       "      <td>0</td>\n",
       "    </tr>\n",
       "    <tr>\n",
       "      <th>4</th>\n",
       "      <td>33</td>\n",
       "      <td>1</td>\n",
       "      <td>5</td>\n",
       "      <td>198</td>\n",
       "      <td>1</td>\n",
       "      <td>-1</td>\n",
       "      <td>0</td>\n",
       "      <td>no</td>\n",
       "      <td>0</td>\n",
       "      <td>0</td>\n",
       "      <td>...</td>\n",
       "      <td>0</td>\n",
       "      <td>0</td>\n",
       "      <td>0</td>\n",
       "      <td>1</td>\n",
       "      <td>0</td>\n",
       "      <td>0</td>\n",
       "      <td>1</td>\n",
       "      <td>0</td>\n",
       "      <td>0</td>\n",
       "      <td>0</td>\n",
       "    </tr>\n",
       "  </tbody>\n",
       "</table>\n",
       "<p>5 rows × 58 columns</p>\n",
       "</div>"
      ],
      "text/plain": [
       "   age  balance  day  duration  campaign  pdays  previous   y  job_admin.  \\\n",
       "0   58     2143    5       261         1     -1         0  no           0   \n",
       "1   44       29    5       151         1     -1         0  no           0   \n",
       "2   33        2    5        76         1     -1         0  no           0   \n",
       "3   47     1506    5        92         1     -1         0  no           0   \n",
       "4   33        1    5       198         1     -1         0  no           0   \n",
       "\n",
       "   job_blue-collar  ...  poutcome_failure  poutcome_other  poutcome_success  \\\n",
       "0                0  ...                 0               0                 0   \n",
       "1                0  ...                 0               0                 0   \n",
       "2                0  ...                 0               0                 0   \n",
       "3                1  ...                 0               0                 0   \n",
       "4                0  ...                 0               0                 0   \n",
       "\n",
       "   poutcome_unknown  f_selection_clus  pca_clusters  em_clus  ica_clusters  \\\n",
       "0                 1                 0             3        1             0   \n",
       "1                 1                 4             0        1             0   \n",
       "2                 1                 4             0        1             0   \n",
       "3                 1                 4             0        1             0   \n",
       "4                 1                 0             0        1             0   \n",
       "\n",
       "   rand_proj_cluster  kmean_clus  \n",
       "0                  3           3  \n",
       "1                  0           0  \n",
       "2                  0           0  \n",
       "3                  0           0  \n",
       "4                  0           0  \n",
       "\n",
       "[5 rows x 58 columns]"
      ]
     },
     "execution_count": 108,
     "metadata": {},
     "output_type": "execute_result"
    }
   ],
   "source": [
    "dataset.head()"
   ]
  },
  {
   "cell_type": "markdown",
   "metadata": {},
   "source": [
    "#### Lets take some insights on how values of clusters are spread:"
   ]
  },
  {
   "cell_type": "code",
   "execution_count": 112,
   "metadata": {},
   "outputs": [],
   "source": [
    "df = pd.DataFrame(data = principal_components, columns = ['PC1', 'PC2','PC3','PC4','PC5'])\n",
    "finalDF = pd.concat([df, dataset[['y']]], axis = 1)"
   ]
  },
  {
   "cell_type": "code",
   "execution_count": 117,
   "metadata": {},
   "outputs": [],
   "source": [
    "cleanup_nums = {\"y\":{\"yes\": 1, \"no\": 0}}"
   ]
  },
  {
   "cell_type": "code",
   "execution_count": 119,
   "metadata": {},
   "outputs": [],
   "source": [
    "finalDF.replace(cleanup_nums, inplace=True)"
   ]
  },
  {
   "cell_type": "code",
   "execution_count": 121,
   "metadata": {},
   "outputs": [
    {
     "data": {
      "text/html": [
       "<div>\n",
       "<style scoped>\n",
       "    .dataframe tbody tr th:only-of-type {\n",
       "        vertical-align: middle;\n",
       "    }\n",
       "\n",
       "    .dataframe tbody tr th {\n",
       "        vertical-align: top;\n",
       "    }\n",
       "\n",
       "    .dataframe thead th {\n",
       "        text-align: right;\n",
       "    }\n",
       "</style>\n",
       "<table border=\"1\" class=\"dataframe\">\n",
       "  <thead>\n",
       "    <tr style=\"text-align: right;\">\n",
       "      <th></th>\n",
       "      <th>PC1</th>\n",
       "      <th>PC2</th>\n",
       "      <th>PC3</th>\n",
       "      <th>PC4</th>\n",
       "      <th>PC5</th>\n",
       "      <th>y</th>\n",
       "    </tr>\n",
       "  </thead>\n",
       "  <tbody>\n",
       "    <tr>\n",
       "      <th>45206</th>\n",
       "      <td>-535.951993</td>\n",
       "      <td>719.848086</td>\n",
       "      <td>-40.645317</td>\n",
       "      <td>10.312492</td>\n",
       "      <td>1.903655</td>\n",
       "      <td>1</td>\n",
       "    </tr>\n",
       "    <tr>\n",
       "      <th>45207</th>\n",
       "      <td>367.096314</td>\n",
       "      <td>197.184931</td>\n",
       "      <td>-41.181165</td>\n",
       "      <td>29.867693</td>\n",
       "      <td>1.753879</td>\n",
       "      <td>1</td>\n",
       "    </tr>\n",
       "    <tr>\n",
       "      <th>45208</th>\n",
       "      <td>4354.343024</td>\n",
       "      <td>860.720542</td>\n",
       "      <td>143.866194</td>\n",
       "      <td>30.125960</td>\n",
       "      <td>4.075318</td>\n",
       "      <td>1</td>\n",
       "    </tr>\n",
       "    <tr>\n",
       "      <th>45209</th>\n",
       "      <td>-693.811135</td>\n",
       "      <td>251.135112</td>\n",
       "      <td>-40.992475</td>\n",
       "      <td>16.248166</td>\n",
       "      <td>1.619288</td>\n",
       "      <td>0</td>\n",
       "    </tr>\n",
       "    <tr>\n",
       "      <th>45210</th>\n",
       "      <td>1608.929565</td>\n",
       "      <td>99.772130</td>\n",
       "      <td>147.795286</td>\n",
       "      <td>-4.088363</td>\n",
       "      <td>2.284695</td>\n",
       "      <td>0</td>\n",
       "    </tr>\n",
       "  </tbody>\n",
       "</table>\n",
       "</div>"
      ],
      "text/plain": [
       "               PC1         PC2         PC3        PC4       PC5  y\n",
       "45206  -535.951993  719.848086  -40.645317  10.312492  1.903655  1\n",
       "45207   367.096314  197.184931  -41.181165  29.867693  1.753879  1\n",
       "45208  4354.343024  860.720542  143.866194  30.125960  4.075318  1\n",
       "45209  -693.811135  251.135112  -40.992475  16.248166  1.619288  0\n",
       "45210  1608.929565   99.772130  147.795286  -4.088363  2.284695  0"
      ]
     },
     "execution_count": 121,
     "metadata": {},
     "output_type": "execute_result"
    }
   ],
   "source": [
    "finalDF.tail()"
   ]
  },
  {
   "cell_type": "markdown",
   "metadata": {},
   "source": [
    "### Applying Neural Network on Principal Components and Different Cluster Outputs:"
   ]
  },
  {
   "cell_type": "code",
   "execution_count": 122,
   "metadata": {},
   "outputs": [],
   "source": [
    "# Train Test Split:\n",
    "x = finalDF.drop(columns=['y'],axis=1)\n",
    "y = finalDF[['y']]\n",
    "xTrain, xTest, yTrain, yTest = train_test_split(x,y, test_size = 0.3, random_state = 0)"
   ]
  },
  {
   "cell_type": "code",
   "execution_count": 123,
   "metadata": {},
   "outputs": [
    {
     "name": "stderr",
     "output_type": "stream",
     "text": [
      "Using TensorFlow backend.\n"
     ]
    },
    {
     "name": "stdout",
     "output_type": "stream",
     "text": [
      "Epoch 1/100\n",
      "31647/31647 [==============================] - 1s 26us/step - loss: 1.8865 - acc: 0.8833\n",
      "Epoch 2/100\n",
      "31647/31647 [==============================] - 1s 20us/step - loss: 1.8826 - acc: 0.8833\n",
      "Epoch 3/100\n",
      "31647/31647 [==============================] - 1s 20us/step - loss: 1.8800 - acc: 0.8833\n",
      "Epoch 4/100\n",
      "31647/31647 [==============================] - 1s 20us/step - loss: 1.8784 - acc: 0.8833\n",
      "Epoch 5/100\n",
      "31647/31647 [==============================] - 1s 20us/step - loss: 1.8775 - acc: 0.8833\n",
      "Epoch 6/100\n",
      "31647/31647 [==============================] - 1s 20us/step - loss: 1.8771 - acc: 0.8833\n",
      "Epoch 7/100\n",
      "31647/31647 [==============================] - 1s 22us/step - loss: 1.8769 - acc: 0.8833\n",
      "Epoch 8/100\n",
      "31647/31647 [==============================] - 1s 21us/step - loss: 1.8767 - acc: 0.8833\n",
      "Epoch 9/100\n",
      "31647/31647 [==============================] - 1s 20us/step - loss: 1.8764 - acc: 0.8833\n",
      "Epoch 10/100\n",
      "31647/31647 [==============================] - 1s 20us/step - loss: 1.8764 - acc: 0.8833\n",
      "Epoch 11/100\n",
      "31647/31647 [==============================] - 1s 20us/step - loss: 1.8763 - acc: 0.8833\n",
      "Epoch 12/100\n",
      "31647/31647 [==============================] - 1s 20us/step - loss: 1.8763 - acc: 0.8833\n",
      "Epoch 13/100\n",
      "31647/31647 [==============================] - 1s 20us/step - loss: 1.8764 - acc: 0.8833\n",
      "Epoch 14/100\n",
      "31647/31647 [==============================] - 1s 20us/step - loss: 1.8764 - acc: 0.8833\n",
      "Epoch 15/100\n",
      "31647/31647 [==============================] - 1s 20us/step - loss: 1.8762 - acc: 0.8833\n",
      "Epoch 16/100\n",
      "31647/31647 [==============================] - 1s 20us/step - loss: 1.8762 - acc: 0.8833\n",
      "Epoch 17/100\n",
      "31647/31647 [==============================] - 1s 20us/step - loss: 1.8763 - acc: 0.8833\n",
      "Epoch 18/100\n",
      "31647/31647 [==============================] - 1s 20us/step - loss: 1.8762 - acc: 0.8833\n",
      "Epoch 19/100\n",
      "31647/31647 [==============================] - 1s 20us/step - loss: 1.8762 - acc: 0.8833\n",
      "Epoch 20/100\n",
      "31647/31647 [==============================] - 1s 20us/step - loss: 1.8766 - acc: 0.8833\n",
      "Epoch 21/100\n",
      "31647/31647 [==============================] - 1s 20us/step - loss: 1.8761 - acc: 0.8833\n",
      "Epoch 22/100\n",
      "31647/31647 [==============================] - 1s 20us/step - loss: 1.8761 - acc: 0.8833\n",
      "Epoch 23/100\n",
      "31647/31647 [==============================] - 1s 20us/step - loss: 1.8762 - acc: 0.8833\n",
      "Epoch 24/100\n",
      "31647/31647 [==============================] - 1s 20us/step - loss: 1.8761 - acc: 0.8833\n",
      "Epoch 25/100\n",
      "31647/31647 [==============================] - 1s 21us/step - loss: 1.8762 - acc: 0.8833\n",
      "Epoch 26/100\n",
      "31647/31647 [==============================] - 1s 19us/step - loss: 1.8762 - acc: 0.8833\n",
      "Epoch 27/100\n",
      "31647/31647 [==============================] - 1s 19us/step - loss: 1.8760 - acc: 0.8833\n",
      "Epoch 28/100\n",
      "31647/31647 [==============================] - 1s 21us/step - loss: 1.8760 - acc: 0.8833\n",
      "Epoch 29/100\n",
      "31647/31647 [==============================] - 1s 20us/step - loss: 1.8759 - acc: 0.8833\n",
      "Epoch 30/100\n",
      "31647/31647 [==============================] - 1s 19us/step - loss: 1.8758 - acc: 0.8833\n",
      "Epoch 31/100\n",
      "31647/31647 [==============================] - 1s 19us/step - loss: 1.8760 - acc: 0.8833\n",
      "Epoch 32/100\n",
      "31647/31647 [==============================] - 1s 20us/step - loss: 1.8757 - acc: 0.8833\n",
      "Epoch 33/100\n",
      "31647/31647 [==============================] - 1s 20us/step - loss: 1.8758 - acc: 0.8833\n",
      "Epoch 34/100\n",
      "31647/31647 [==============================] - 1s 19us/step - loss: 1.8758 - acc: 0.8833\n",
      "Epoch 35/100\n",
      "31647/31647 [==============================] - 1s 19us/step - loss: 1.8757 - acc: 0.8833\n",
      "Epoch 36/100\n",
      "31647/31647 [==============================] - 1s 21us/step - loss: 1.8757 - acc: 0.8833\n",
      "Epoch 37/100\n",
      "31647/31647 [==============================] - 1s 20us/step - loss: 1.8758 - acc: 0.8833\n",
      "Epoch 38/100\n",
      "31647/31647 [==============================] - 1s 21us/step - loss: 1.8757 - acc: 0.8833\n",
      "Epoch 39/100\n",
      "31647/31647 [==============================] - 1s 22us/step - loss: 1.8758 - acc: 0.8833\n",
      "Epoch 40/100\n",
      "31647/31647 [==============================] - 1s 20us/step - loss: 1.8757 - acc: 0.8833\n",
      "Epoch 41/100\n",
      "31647/31647 [==============================] - 1s 20us/step - loss: 1.8757 - acc: 0.8833\n",
      "Epoch 42/100\n",
      "31647/31647 [==============================] - 1s 20us/step - loss: 1.8757 - acc: 0.8833\n",
      "Epoch 43/100\n",
      "31647/31647 [==============================] - 1s 20us/step - loss: 1.8757 - acc: 0.8833\n",
      "Epoch 44/100\n",
      "31647/31647 [==============================] - 1s 21us/step - loss: 1.8757 - acc: 0.8833\n",
      "Epoch 45/100\n",
      "31647/31647 [==============================] - 1s 20us/step - loss: 1.8757 - acc: 0.8833\n",
      "Epoch 46/100\n",
      "31647/31647 [==============================] - 1s 20us/step - loss: 1.8757 - acc: 0.8833\n",
      "Epoch 47/100\n",
      "31647/31647 [==============================] - 1s 20us/step - loss: 1.8757 - acc: 0.8833\n",
      "Epoch 48/100\n",
      "31647/31647 [==============================] - 1s 20us/step - loss: 1.8760 - acc: 0.8833\n",
      "Epoch 49/100\n",
      "31647/31647 [==============================] - 1s 20us/step - loss: 1.8759 - acc: 0.8833\n",
      "Epoch 50/100\n",
      "31647/31647 [==============================] - 1s 21us/step - loss: 1.8760 - acc: 0.8833\n",
      "Epoch 51/100\n",
      "31647/31647 [==============================] - 1s 21us/step - loss: 1.8759 - acc: 0.8833\n",
      "Epoch 52/100\n",
      "31647/31647 [==============================] - 1s 20us/step - loss: 1.8758 - acc: 0.8833\n",
      "Epoch 53/100\n",
      "31647/31647 [==============================] - 1s 20us/step - loss: 1.8757 - acc: 0.8833\n",
      "Epoch 54/100\n",
      "31647/31647 [==============================] - 1s 20us/step - loss: 1.8756 - acc: 0.8833\n",
      "Epoch 55/100\n",
      "31647/31647 [==============================] - 1s 20us/step - loss: 1.8755 - acc: 0.8833\n",
      "Epoch 56/100\n",
      "31647/31647 [==============================] - 1s 21us/step - loss: 1.8753 - acc: 0.8833\n",
      "Epoch 57/100\n",
      "31647/31647 [==============================] - 1s 21us/step - loss: 1.8751 - acc: 0.8833\n",
      "Epoch 58/100\n",
      "31647/31647 [==============================] - 1s 20us/step - loss: 1.8747 - acc: 0.8833\n",
      "Epoch 59/100\n",
      "31647/31647 [==============================] - 1s 20us/step - loss: 1.6876 - acc: 0.8822\n",
      "Epoch 60/100\n",
      "31647/31647 [==============================] - 1s 20us/step - loss: 0.9311 - acc: 0.8829\n",
      "Epoch 61/100\n",
      "31647/31647 [==============================] - 1s 20us/step - loss: 0.8946 - acc: 0.8852\n",
      "Epoch 62/100\n",
      "31647/31647 [==============================] - 1s 20us/step - loss: 0.8823 - acc: 0.8864\n",
      "Epoch 63/100\n",
      "31647/31647 [==============================] - 1s 20us/step - loss: 0.7400 - acc: 0.8854\n",
      "Epoch 64/100\n",
      "31647/31647 [==============================] - 1s 20us/step - loss: 0.3653 - acc: 0.8848\n",
      "Epoch 65/100\n",
      "31647/31647 [==============================] - 1s 20us/step - loss: 0.3148 - acc: 0.8891\n",
      "Epoch 66/100\n",
      "31647/31647 [==============================] - 1s 20us/step - loss: 0.3104 - acc: 0.8893\n",
      "Epoch 67/100\n",
      "31647/31647 [==============================] - 1s 20us/step - loss: 0.3101 - acc: 0.8890\n",
      "Epoch 68/100\n",
      "31647/31647 [==============================] - 1s 20us/step - loss: 0.3093 - acc: 0.8886\n",
      "Epoch 69/100\n",
      "31647/31647 [==============================] - 1s 20us/step - loss: 0.3084 - acc: 0.8893\n",
      "Epoch 70/100\n",
      "31647/31647 [==============================] - 1s 20us/step - loss: 0.3090 - acc: 0.8893\n",
      "Epoch 71/100\n",
      "31647/31647 [==============================] - 1s 20us/step - loss: 0.3079 - acc: 0.8894\n",
      "Epoch 72/100\n",
      "31647/31647 [==============================] - 1s 21us/step - loss: 0.3082 - acc: 0.8888\n",
      "Epoch 73/100\n",
      "31647/31647 [==============================] - 1s 20us/step - loss: 0.3024 - acc: 0.8901\n",
      "Epoch 74/100\n",
      "31647/31647 [==============================] - 1s 20us/step - loss: 0.2927 - acc: 0.8892\n",
      "Epoch 75/100\n",
      "31647/31647 [==============================] - 1s 21us/step - loss: 0.2893 - acc: 0.8891\n",
      "Epoch 76/100\n",
      "31647/31647 [==============================] - 1s 20us/step - loss: 0.2879 - acc: 0.8890\n",
      "Epoch 77/100\n",
      "31647/31647 [==============================] - 1s 20us/step - loss: 0.2869 - acc: 0.8892\n",
      "Epoch 78/100\n",
      "31647/31647 [==============================] - 1s 20us/step - loss: 0.2875 - acc: 0.8882\n",
      "Epoch 79/100\n",
      "31647/31647 [==============================] - 1s 20us/step - loss: 0.2867 - acc: 0.8889\n",
      "Epoch 80/100\n",
      "31647/31647 [==============================] - 1s 21us/step - loss: 0.2872 - acc: 0.8876\n",
      "Epoch 81/100\n"
     ]
    },
    {
     "name": "stdout",
     "output_type": "stream",
     "text": [
      "31647/31647 [==============================] - 1s 20us/step - loss: 0.2867 - acc: 0.8884\n",
      "Epoch 82/100\n",
      "31647/31647 [==============================] - 1s 20us/step - loss: 0.2869 - acc: 0.8877\n",
      "Epoch 83/100\n",
      "31647/31647 [==============================] - 1s 21us/step - loss: 0.2865 - acc: 0.8878\n",
      "Epoch 84/100\n",
      "31647/31647 [==============================] - 1s 21us/step - loss: 0.2864 - acc: 0.8880\n",
      "Epoch 85/100\n",
      "31647/31647 [==============================] - 1s 21us/step - loss: 0.2859 - acc: 0.8892\n",
      "Epoch 86/100\n",
      "31647/31647 [==============================] - 1s 22us/step - loss: 0.2866 - acc: 0.8883\n",
      "Epoch 87/100\n",
      "31647/31647 [==============================] - 1s 21us/step - loss: 0.2883 - acc: 0.8881\n",
      "Epoch 88/100\n",
      "31647/31647 [==============================] - 1s 21us/step - loss: 0.2863 - acc: 0.8888\n",
      "Epoch 89/100\n",
      "31647/31647 [==============================] - 1s 21us/step - loss: 0.2866 - acc: 0.8881\n",
      "Epoch 90/100\n",
      "31647/31647 [==============================] - 1s 20us/step - loss: 0.2863 - acc: 0.8889\n",
      "Epoch 91/100\n",
      "31647/31647 [==============================] - 1s 21us/step - loss: 0.2867 - acc: 0.8886\n",
      "Epoch 92/100\n",
      "31647/31647 [==============================] - 1s 21us/step - loss: 0.2859 - acc: 0.8892\n",
      "Epoch 93/100\n",
      "31647/31647 [==============================] - 1s 22us/step - loss: 0.2867 - acc: 0.8885\n",
      "Epoch 94/100\n",
      "31647/31647 [==============================] - 1s 22us/step - loss: 0.2864 - acc: 0.8887\n",
      "Epoch 95/100\n",
      "31647/31647 [==============================] - 1s 20us/step - loss: 0.2865 - acc: 0.8884\n",
      "Epoch 96/100\n",
      "31647/31647 [==============================] - 1s 20us/step - loss: 0.2864 - acc: 0.8878\n",
      "Epoch 97/100\n",
      "31647/31647 [==============================] - 1s 21us/step - loss: 0.2871 - acc: 0.8874\n",
      "Epoch 98/100\n",
      "31647/31647 [==============================] - 1s 21us/step - loss: 0.2869 - acc: 0.8885\n",
      "Epoch 99/100\n",
      "31647/31647 [==============================] - 1s 25us/step - loss: 0.2874 - acc: 0.8879\n",
      "Epoch 100/100\n",
      "31647/31647 [==============================] - 1s 30us/step - loss: 0.2865 - acc: 0.8886\n"
     ]
    },
    {
     "data": {
      "text/plain": [
       "<tensorflow.python.keras.callbacks.History at 0x2a425265b70>"
      ]
     },
     "execution_count": 123,
     "metadata": {},
     "output_type": "execute_result"
    }
   ],
   "source": [
    "import keras\n",
    "import tensorflow as tf\n",
    "\n",
    "from keras.wrappers.scikit_learn import KerasClassifier\n",
    "from tensorflow.keras.models import Sequential\n",
    "from tensorflow.keras.layers import Dense\n",
    "\n",
    "from tensorflow.keras.wrappers.scikit_learn import KerasClassifier\n",
    "import keras.metrics\n",
    "from keras import optimizers\n",
    "\n",
    "model = Sequential()\n",
    "model.add(Dense(2, input_dim = 5, activation = 'relu'))\n",
    "model.add(Dense(1, activation = 'sigmoid'))\n",
    "model.compile(loss = 'binary_crossentropy', optimizer = 'Adam', metrics = ['accuracy'])\n",
    "\n",
    "model.fit(xTrain,yTrain,epochs=100,verbose=1)"
   ]
  },
  {
   "cell_type": "code",
   "execution_count": 125,
   "metadata": {},
   "outputs": [
    {
     "name": "stdout",
     "output_type": "stream",
     "text": [
      "Classification Report:\n",
      "             precision    recall  f1-score   support\n",
      "\n",
      "          0       0.89      0.99      0.94     11969\n",
      "          1       0.52      0.05      0.10      1595\n",
      "\n",
      "avg / total       0.84      0.88      0.84     13564\n",
      "\n",
      "Confusion Matrix:\n",
      "[[11892    77]\n",
      " [ 1511    84]]\n"
     ]
    }
   ],
   "source": [
    "from sklearn.metrics import classification_report\n",
    "from sklearn.metrics import confusion_matrix\n",
    "\n",
    "y_test_predict = model.predict(xTest)\n",
    "y_predict = np.where(y_test_predict>= 0.5, 1, 0)\n",
    "\n",
    "print('Classification Report:')\n",
    "print(classification_report(yTest,y_predict))\n",
    "print('Confusion Matrix:')\n",
    "print(confusion_matrix(yTest,y_predict))"
   ]
  },
  {
   "cell_type": "markdown",
   "metadata": {},
   "source": [
    "### Explained Variance Plot after PCA:"
   ]
  },
  {
   "cell_type": "code",
   "execution_count": 126,
   "metadata": {},
   "outputs": [
    {
     "data": {
      "text/plain": [
       "array([9.91814030e-01, 7.09197095e-03, 1.07280537e-03, 1.19542646e-05,\n",
       "       7.36501778e-06])"
      ]
     },
     "execution_count": 126,
     "metadata": {},
     "output_type": "execute_result"
    }
   ],
   "source": [
    "explained_variance=pca.explained_variance_ratio_\n",
    "explained_variance"
   ]
  },
  {
   "cell_type": "code",
   "execution_count": 127,
   "metadata": {},
   "outputs": [
    {
     "data": {
      "image/png": "[encoded data removed]",
      "text/plain": [
       "<Figure size 432x288 with 1 Axes>"
      ]
     },
     "metadata": {},
     "output_type": "display_data"
    }
   ],
   "source": [
    "with plt.style.context('dark_background'):\n",
    "    plt.figure(figsize=(6, 4))\n",
    "\n",
    "    plt.bar(range(5), explained_variance, alpha=0.5, align='center',\n",
    "            label='individual explained variance')\n",
    "    plt.ylabel('Explained variance ratio')\n",
    "    plt.xlabel('Principal components')\n",
    "    plt.legend(loc='best')\n",
    "    plt.tight_layout()"
   ]
  },
  {
   "cell_type": "markdown",
   "metadata": {},
   "source": [
    "### Experimenting Neural Network with various cluster outputs and Class Label:"
   ]
  },
  {
   "cell_type": "code",
   "execution_count": 128,
   "metadata": {},
   "outputs": [],
   "source": [
    "df2 = dataset[['kmean_clus', 'em_clus', 'f_selection_clus','pca_clusters','ica_clusters', 'rand_proj_cluster', 'y']]"
   ]
  },
  {
   "cell_type": "code",
   "execution_count": 130,
   "metadata": {},
   "outputs": [],
   "source": [
    "clean_nums = {\"y\":{\"yes\": 1, \"no\": 0}}"
   ]
  },
  {
   "cell_type": "code",
   "execution_count": 131,
   "metadata": {},
   "outputs": [],
   "source": [
    "df2.replace(clean_nums, inplace=True)"
   ]
  },
  {
   "cell_type": "code",
   "execution_count": 133,
   "metadata": {
    "scrolled": true
   },
   "outputs": [
    {
     "data": {
      "text/html": [
       "<div>\n",
       "<style scoped>\n",
       "    .dataframe tbody tr th:only-of-type {\n",
       "        vertical-align: middle;\n",
       "    }\n",
       "\n",
       "    .dataframe tbody tr th {\n",
       "        vertical-align: top;\n",
       "    }\n",
       "\n",
       "    .dataframe thead th {\n",
       "        text-align: right;\n",
       "    }\n",
       "</style>\n",
       "<table border=\"1\" class=\"dataframe\">\n",
       "  <thead>\n",
       "    <tr style=\"text-align: right;\">\n",
       "      <th></th>\n",
       "      <th>kmean_clus</th>\n",
       "      <th>em_clus</th>\n",
       "      <th>f_selection_clus</th>\n",
       "      <th>pca_clusters</th>\n",
       "      <th>ica_clusters</th>\n",
       "      <th>rand_proj_cluster</th>\n",
       "      <th>y</th>\n",
       "    </tr>\n",
       "  </thead>\n",
       "  <tbody>\n",
       "    <tr>\n",
       "      <th>45206</th>\n",
       "      <td>0</td>\n",
       "      <td>1</td>\n",
       "      <td>1</td>\n",
       "      <td>0</td>\n",
       "      <td>4</td>\n",
       "      <td>0</td>\n",
       "      <td>1</td>\n",
       "    </tr>\n",
       "    <tr>\n",
       "      <th>45207</th>\n",
       "      <td>0</td>\n",
       "      <td>1</td>\n",
       "      <td>2</td>\n",
       "      <td>0</td>\n",
       "      <td>1</td>\n",
       "      <td>0</td>\n",
       "      <td>1</td>\n",
       "    </tr>\n",
       "    <tr>\n",
       "      <th>45208</th>\n",
       "      <td>3</td>\n",
       "      <td>4</td>\n",
       "      <td>1</td>\n",
       "      <td>3</td>\n",
       "      <td>4</td>\n",
       "      <td>3</td>\n",
       "      <td>1</td>\n",
       "    </tr>\n",
       "    <tr>\n",
       "      <th>45209</th>\n",
       "      <td>0</td>\n",
       "      <td>1</td>\n",
       "      <td>2</td>\n",
       "      <td>0</td>\n",
       "      <td>1</td>\n",
       "      <td>0</td>\n",
       "      <td>0</td>\n",
       "    </tr>\n",
       "    <tr>\n",
       "      <th>45210</th>\n",
       "      <td>3</td>\n",
       "      <td>0</td>\n",
       "      <td>0</td>\n",
       "      <td>3</td>\n",
       "      <td>2</td>\n",
       "      <td>3</td>\n",
       "      <td>0</td>\n",
       "    </tr>\n",
       "  </tbody>\n",
       "</table>\n",
       "</div>"
      ],
      "text/plain": [
       "       kmean_clus  em_clus  f_selection_clus  pca_clusters  ica_clusters  \\\n",
       "45206           0        1                 1             0             4   \n",
       "45207           0        1                 2             0             1   \n",
       "45208           3        4                 1             3             4   \n",
       "45209           0        1                 2             0             1   \n",
       "45210           3        0                 0             3             2   \n",
       "\n",
       "       rand_proj_cluster  y  \n",
       "45206                  0  1  \n",
       "45207                  0  1  \n",
       "45208                  3  1  \n",
       "45209                  0  0  \n",
       "45210                  3  0  "
      ]
     },
     "execution_count": 133,
     "metadata": {},
     "output_type": "execute_result"
    }
   ],
   "source": [
    "df2.tail()"
   ]
  },
  {
   "cell_type": "markdown",
   "metadata": {},
   "source": [
    "#### Using Group by to get better insights on clusters"
   ]
  },
  {
   "cell_type": "code",
   "execution_count": 134,
   "metadata": {},
   "outputs": [
    {
     "data": {
      "text/plain": [
       "kmean_clus  y\n",
       "0           0    32332\n",
       "            1     3796\n",
       "1           0     1462\n",
       "            1      268\n",
       "2           0       23\n",
       "            1        5\n",
       "3           0     5828\n",
       "            1     1183\n",
       "4           0      277\n",
       "            1       37\n",
       "Name: y, dtype: int64"
      ]
     },
     "execution_count": 134,
     "metadata": {},
     "output_type": "execute_result"
    }
   ],
   "source": [
    "df2.groupby(['kmean_clus','y'])['y'].count()"
   ]
  },
  {
   "cell_type": "markdown",
   "metadata": {},
   "source": [
    "### Plotting comparative plots of various clusters, based on o/p labels:"
   ]
  },
  {
   "cell_type": "code",
   "execution_count": 135,
   "metadata": {},
   "outputs": [
    {
     "data": {
      "text/plain": [
       "<matplotlib.axes._subplots.AxesSubplot at 0x2a42684dc50>"
      ]
     },
     "execution_count": 135,
     "metadata": {},
     "output_type": "execute_result"
    },
    {
     "data": {
      "image/png": "[encoded data removed]",
      "text/plain": [
       "<Figure size 576x1728 with 6 Axes>"
      ]
     },
     "metadata": {},
     "output_type": "display_data"
    }
   ],
   "source": [
    "sns.set(rc={'figure.figsize':(8,24)})\n",
    "fig, (ax1,ax2,ax3,ax4,ax5,ax6)=plt.subplots(6)\n",
    "sns.countplot(data = df2, x = 'kmean_clus', hue = 'y', palette = 'afmhot',ax=ax1)\n",
    "sns.countplot(data = df2, x = 'em_clus', hue = 'y', palette = 'afmhot',ax=ax2)\n",
    "sns.countplot(data = df2, x = 'f_selection_clus', hue = 'y', palette = 'afmhot',ax=ax3)\n",
    "sns.countplot(data = df2, x = 'pca_clusters', hue = 'y', palette = 'afmhot',ax=ax4)\n",
    "sns.countplot(data = df2, x = 'ica_clusters', hue = 'y', palette = 'afmhot',ax=ax5)\n",
    "sns.countplot(data = df2, x = 'rand_proj_cluster', hue = 'y', palette = 'afmhot',ax=ax6)"
   ]
  },
  {
   "cell_type": "markdown",
   "metadata": {},
   "source": [
    "### Applying Neural net on Cluster outputs and Class Labels:"
   ]
  },
  {
   "cell_type": "code",
   "execution_count": 136,
   "metadata": {},
   "outputs": [],
   "source": [
    "# Train Test Split:\n",
    "x = df2.drop(columns=['y'],axis=1)\n",
    "y = df2[['y']]\n",
    "xTrain, xTest, yTrain, yTest = train_test_split(x,y, test_size = 0.3, random_state = 0)"
   ]
  },
  {
   "cell_type": "code",
   "execution_count": 137,
   "metadata": {},
   "outputs": [
    {
     "name": "stdout",
     "output_type": "stream",
     "text": [
      "Epoch 1/100\n",
      "31647/31647 [==============================] - 1s 19us/step - loss: 0.6157 - acc: 0.8264\n",
      "Epoch 2/100\n",
      "31647/31647 [==============================] - 0s 14us/step - loss: 0.4221 - acc: 0.8857\n",
      "Epoch 3/100\n",
      "31647/31647 [==============================] - 0s 13us/step - loss: 0.2830 - acc: 0.8871\n",
      "Epoch 4/100\n",
      "31647/31647 [==============================] - 0s 13us/step - loss: 0.2734 - acc: 0.8878\n",
      "Epoch 5/100\n",
      "31647/31647 [==============================] - 0s 13us/step - loss: 0.2719 - acc: 0.8878\n",
      "Epoch 6/100\n",
      "31647/31647 [==============================] - 0s 13us/step - loss: 0.2713 - acc: 0.8869\n",
      "Epoch 7/100\n",
      "31647/31647 [==============================] - 0s 13us/step - loss: 0.2712 - acc: 0.8870\n",
      "Epoch 8/100\n",
      "31647/31647 [==============================] - 0s 13us/step - loss: 0.2705 - acc: 0.8872\n",
      "Epoch 9/100\n",
      "31647/31647 [==============================] - 0s 13us/step - loss: 0.2702 - acc: 0.8871\n",
      "Epoch 10/100\n",
      "31647/31647 [==============================] - 0s 13us/step - loss: 0.2699 - acc: 0.8876\n",
      "Epoch 11/100\n",
      "31647/31647 [==============================] - 0s 13us/step - loss: 0.2695 - acc: 0.8880\n",
      "Epoch 12/100\n",
      "31647/31647 [==============================] - 0s 14us/step - loss: 0.2689 - acc: 0.8890\n",
      "Epoch 13/100\n",
      "31647/31647 [==============================] - 0s 13us/step - loss: 0.2686 - acc: 0.8880\n",
      "Epoch 14/100\n",
      "31647/31647 [==============================] - 0s 14us/step - loss: 0.2682 - acc: 0.8895\n",
      "Epoch 15/100\n",
      "31647/31647 [==============================] - 0s 13us/step - loss: 0.2680 - acc: 0.8885\n",
      "Epoch 16/100\n",
      "31647/31647 [==============================] - 0s 13us/step - loss: 0.2679 - acc: 0.8885\n",
      "Epoch 17/100\n",
      "31647/31647 [==============================] - 0s 13us/step - loss: 0.2677 - acc: 0.8887\n",
      "Epoch 18/100\n",
      "31647/31647 [==============================] - 0s 14us/step - loss: 0.2674 - acc: 0.8890\n",
      "Epoch 19/100\n",
      "31647/31647 [==============================] - 0s 13us/step - loss: 0.2673 - acc: 0.8893\n",
      "Epoch 20/100\n",
      "31647/31647 [==============================] - 0s 13us/step - loss: 0.2673 - acc: 0.8891\n",
      "Epoch 21/100\n",
      "31647/31647 [==============================] - 0s 13us/step - loss: 0.2673 - acc: 0.8886\n",
      "Epoch 22/100\n",
      "31647/31647 [==============================] - 0s 13us/step - loss: 0.2670 - acc: 0.8886\n",
      "Epoch 23/100\n",
      "31647/31647 [==============================] - 0s 13us/step - loss: 0.2669 - acc: 0.8894\n",
      "Epoch 24/100\n",
      "31647/31647 [==============================] - 0s 13us/step - loss: 0.2668 - acc: 0.8884\n",
      "Epoch 25/100\n",
      "31647/31647 [==============================] - 0s 13us/step - loss: 0.2667 - acc: 0.8894\n",
      "Epoch 26/100\n",
      "31647/31647 [==============================] - 0s 13us/step - loss: 0.2667 - acc: 0.8883\n",
      "Epoch 27/100\n",
      "31647/31647 [==============================] - 0s 13us/step - loss: 0.2667 - acc: 0.8887\n",
      "Epoch 28/100\n",
      "31647/31647 [==============================] - 0s 13us/step - loss: 0.2665 - acc: 0.8892\n",
      "Epoch 29/100\n",
      "31647/31647 [==============================] - 0s 13us/step - loss: 0.2664 - acc: 0.8890\n",
      "Epoch 30/100\n",
      "31647/31647 [==============================] - 0s 13us/step - loss: 0.2664 - acc: 0.8887\n",
      "Epoch 31/100\n",
      "31647/31647 [==============================] - 0s 13us/step - loss: 0.2662 - acc: 0.8884\n",
      "Epoch 32/100\n",
      "31647/31647 [==============================] - 0s 15us/step - loss: 0.2660 - acc: 0.8899\n",
      "Epoch 33/100\n",
      "31647/31647 [==============================] - 0s 13us/step - loss: 0.2663 - acc: 0.8876\n",
      "Epoch 34/100\n",
      "31647/31647 [==============================] - 0s 13us/step - loss: 0.2660 - acc: 0.8891\n",
      "Epoch 35/100\n",
      "31647/31647 [==============================] - 0s 13us/step - loss: 0.2661 - acc: 0.8886\n",
      "Epoch 36/100\n",
      "31647/31647 [==============================] - 0s 13us/step - loss: 0.2659 - acc: 0.8869\n",
      "Epoch 37/100\n",
      "31647/31647 [==============================] - 0s 14us/step - loss: 0.2661 - acc: 0.8868\n",
      "Epoch 38/100\n",
      "31647/31647 [==============================] - 0s 14us/step - loss: 0.2659 - acc: 0.8889\n",
      "Epoch 39/100\n",
      "31647/31647 [==============================] - 0s 13us/step - loss: 0.2658 - acc: 0.8874\n",
      "Epoch 40/100\n",
      "31647/31647 [==============================] - 0s 13us/step - loss: 0.2658 - acc: 0.8862\n",
      "Epoch 41/100\n",
      "31647/31647 [==============================] - 0s 13us/step - loss: 0.2658 - acc: 0.8889\n",
      "Epoch 42/100\n",
      "31647/31647 [==============================] - 0s 13us/step - loss: 0.2656 - acc: 0.8880\n",
      "Epoch 43/100\n",
      "31647/31647 [==============================] - 0s 13us/step - loss: 0.2657 - acc: 0.8877\n",
      "Epoch 44/100\n",
      "31647/31647 [==============================] - 1s 17us/step - loss: 0.2657 - acc: 0.8868\n",
      "Epoch 45/100\n",
      "31647/31647 [==============================] - 1s 16us/step - loss: 0.2657 - acc: 0.8875\n",
      "Epoch 46/100\n",
      "31647/31647 [==============================] - 0s 13us/step - loss: 0.2656 - acc: 0.8871\n",
      "Epoch 47/100\n",
      "31647/31647 [==============================] - 0s 13us/step - loss: 0.2657 - acc: 0.8864\n",
      "Epoch 48/100\n",
      "31647/31647 [==============================] - 0s 14us/step - loss: 0.2654 - acc: 0.8882\n",
      "Epoch 49/100\n",
      "31647/31647 [==============================] - 0s 13us/step - loss: 0.2657 - acc: 0.8875\n",
      "Epoch 50/100\n",
      "31647/31647 [==============================] - 0s 13us/step - loss: 0.2654 - acc: 0.8886\n",
      "Epoch 51/100\n",
      "31647/31647 [==============================] - 0s 13us/step - loss: 0.2656 - acc: 0.8881\n",
      "Epoch 52/100\n",
      "31647/31647 [==============================] - 0s 14us/step - loss: 0.2656 - acc: 0.8869\n",
      "Epoch 53/100\n",
      "31647/31647 [==============================] - 0s 13us/step - loss: 0.2655 - acc: 0.8865\n",
      "Epoch 54/100\n",
      "31647/31647 [==============================] - 0s 14us/step - loss: 0.2656 - acc: 0.8880\n",
      "Epoch 55/100\n",
      "31647/31647 [==============================] - 0s 13us/step - loss: 0.2655 - acc: 0.8868\n",
      "Epoch 56/100\n",
      "31647/31647 [==============================] - 0s 13us/step - loss: 0.2656 - acc: 0.8867\n",
      "Epoch 57/100\n",
      "31647/31647 [==============================] - 0s 13us/step - loss: 0.2656 - acc: 0.8881\n",
      "Epoch 58/100\n",
      "31647/31647 [==============================] - 0s 13us/step - loss: 0.2656 - acc: 0.8869\n",
      "Epoch 59/100\n",
      "31647/31647 [==============================] - 0s 13us/step - loss: 0.2656 - acc: 0.8870: 0s - loss: 0.2589 - acc: \n",
      "Epoch 60/100\n",
      "31647/31647 [==============================] - 0s 13us/step - loss: 0.2656 - acc: 0.8873\n",
      "Epoch 61/100\n",
      "31647/31647 [==============================] - 0s 13us/step - loss: 0.2654 - acc: 0.8869\n",
      "Epoch 62/100\n",
      "31647/31647 [==============================] - 0s 14us/step - loss: 0.2655 - acc: 0.8864\n",
      "Epoch 63/100\n",
      "31647/31647 [==============================] - 0s 13us/step - loss: 0.2655 - acc: 0.8868\n",
      "Epoch 64/100\n",
      "31647/31647 [==============================] - 0s 14us/step - loss: 0.2655 - acc: 0.8869\n",
      "Epoch 65/100\n",
      "31647/31647 [==============================] - 0s 13us/step - loss: 0.2655 - acc: 0.8865\n",
      "Epoch 66/100\n",
      "31647/31647 [==============================] - 0s 14us/step - loss: 0.2655 - acc: 0.8865\n",
      "Epoch 67/100\n",
      "31647/31647 [==============================] - 0s 13us/step - loss: 0.2655 - acc: 0.8875\n",
      "Epoch 68/100\n",
      "31647/31647 [==============================] - 0s 14us/step - loss: 0.2654 - acc: 0.8867\n",
      "Epoch 69/100\n",
      "31647/31647 [==============================] - 0s 14us/step - loss: 0.2654 - acc: 0.8866\n",
      "Epoch 70/100\n",
      "31647/31647 [==============================] - 0s 14us/step - loss: 0.2655 - acc: 0.8875\n",
      "Epoch 71/100\n",
      "31647/31647 [==============================] - 0s 13us/step - loss: 0.2655 - acc: 0.8871\n",
      "Epoch 72/100\n",
      "31647/31647 [==============================] - 0s 13us/step - loss: 0.2653 - acc: 0.8871\n",
      "Epoch 73/100\n",
      "31647/31647 [==============================] - 0s 14us/step - loss: 0.2653 - acc: 0.8874\n",
      "Epoch 74/100\n",
      "31647/31647 [==============================] - 0s 13us/step - loss: 0.2657 - acc: 0.8865\n",
      "Epoch 75/100\n",
      "31647/31647 [==============================] - 0s 14us/step - loss: 0.2656 - acc: 0.8864\n",
      "Epoch 76/100\n",
      "31647/31647 [==============================] - 0s 14us/step - loss: 0.2654 - acc: 0.8859\n",
      "Epoch 77/100\n",
      "31647/31647 [==============================] - 0s 13us/step - loss: 0.2655 - acc: 0.8874\n",
      "Epoch 78/100\n",
      "31647/31647 [==============================] - 0s 14us/step - loss: 0.2653 - acc: 0.8870\n",
      "Epoch 79/100\n",
      "31647/31647 [==============================] - 0s 13us/step - loss: 0.2654 - acc: 0.8863\n",
      "Epoch 80/100\n",
      "31647/31647 [==============================] - 0s 14us/step - loss: 0.2655 - acc: 0.8873\n",
      "Epoch 81/100\n"
     ]
    },
    {
     "name": "stdout",
     "output_type": "stream",
     "text": [
      "31647/31647 [==============================] - 0s 14us/step - loss: 0.2655 - acc: 0.8868\n",
      "Epoch 82/100\n",
      "31647/31647 [==============================] - 0s 14us/step - loss: 0.2655 - acc: 0.8877\n",
      "Epoch 83/100\n",
      "31647/31647 [==============================] - 0s 13us/step - loss: 0.2656 - acc: 0.8859\n",
      "Epoch 84/100\n",
      "31647/31647 [==============================] - 0s 13us/step - loss: 0.2655 - acc: 0.8860\n",
      "Epoch 85/100\n",
      "31647/31647 [==============================] - 0s 13us/step - loss: 0.2656 - acc: 0.8869\n",
      "Epoch 86/100\n",
      "31647/31647 [==============================] - 0s 13us/step - loss: 0.2656 - acc: 0.8863\n",
      "Epoch 87/100\n",
      "31647/31647 [==============================] - 0s 13us/step - loss: 0.2655 - acc: 0.8871\n",
      "Epoch 88/100\n",
      "31647/31647 [==============================] - 0s 13us/step - loss: 0.2654 - acc: 0.8868\n",
      "Epoch 89/100\n",
      "31647/31647 [==============================] - 0s 13us/step - loss: 0.2653 - acc: 0.8854\n",
      "Epoch 90/100\n",
      "31647/31647 [==============================] - 0s 13us/step - loss: 0.2656 - acc: 0.8869\n",
      "Epoch 91/100\n",
      "31647/31647 [==============================] - 0s 14us/step - loss: 0.2654 - acc: 0.8878\n",
      "Epoch 92/100\n",
      "31647/31647 [==============================] - 0s 14us/step - loss: 0.2656 - acc: 0.8864\n",
      "Epoch 93/100\n",
      "31647/31647 [==============================] - 0s 14us/step - loss: 0.2653 - acc: 0.8849\n",
      "Epoch 94/100\n",
      "31647/31647 [==============================] - 0s 13us/step - loss: 0.2653 - acc: 0.8865\n",
      "Epoch 95/100\n",
      "31647/31647 [==============================] - 0s 14us/step - loss: 0.2654 - acc: 0.8857\n",
      "Epoch 96/100\n",
      "31647/31647 [==============================] - 0s 13us/step - loss: 0.2655 - acc: 0.8856\n",
      "Epoch 97/100\n",
      "31647/31647 [==============================] - 0s 14us/step - loss: 0.2654 - acc: 0.8872\n",
      "Epoch 98/100\n",
      "31647/31647 [==============================] - 0s 14us/step - loss: 0.2656 - acc: 0.8851\n",
      "Epoch 99/100\n",
      "31647/31647 [==============================] - 0s 13us/step - loss: 0.2653 - acc: 0.8863\n",
      "Epoch 100/100\n",
      "31647/31647 [==============================] - 0s 13us/step - loss: 0.2654 - acc: 0.8864\n"
     ]
    },
    {
     "data": {
      "text/plain": [
       "<tensorflow.python.keras.callbacks.History at 0x2a4256497f0>"
      ]
     },
     "execution_count": 137,
     "metadata": {},
     "output_type": "execute_result"
    }
   ],
   "source": [
    "model = Sequential()\n",
    "model.add(Dense(4, input_dim = 6, activation = 'relu'))\n",
    "model.add(Dense(1, activation = 'sigmoid'))\n",
    "model.compile(loss = 'binary_crossentropy', optimizer = 'Adam', metrics = ['accuracy'])\n",
    "\n",
    "model.fit(xTrain,yTrain,epochs=100,batch_size=50,verbose=1)"
   ]
  },
  {
   "cell_type": "code",
   "execution_count": 138,
   "metadata": {},
   "outputs": [
    {
     "name": "stdout",
     "output_type": "stream",
     "text": [
      "Classification Report:\n",
      "             precision    recall  f1-score   support\n",
      "\n",
      "          0       0.92      0.95      0.93     11969\n",
      "          1       0.50      0.42      0.46      1595\n",
      "\n",
      "avg / total       0.87      0.88      0.88     13564\n",
      "\n",
      "Confusion Matrix:\n",
      "[[11317   652]\n",
      " [  930   665]]\n"
     ]
    }
   ],
   "source": [
    "from sklearn.metrics import classification_report\n",
    "y_test_pred = model.predict(xTest)\n",
    "y_pred = np.where(y_test_pred>= 0.5, 1, 0)\n",
    "\n",
    "print('Classification Report:')\n",
    "print(classification_report(yTest,y_pred))\n",
    "print('Confusion Matrix:')\n",
    "print(confusion_matrix(yTest,y_pred))"
   ]
  },
  {
   "cell_type": "code",
   "execution_count": null,
   "metadata": {},
   "outputs": [],
   "source": []
  }
 ],
 "metadata": {
  "kernelspec": {
   "display_name": "Python 3",
   "language": "python",
   "name": "python3"
  },
  "language_info": {
   "codemirror_mode": {
    "name": "ipython",
    "version": 3
   },
   "file_extension": ".py",
   "mimetype": "text/x-python",
   "name": "python",
   "nbconvert_exporter": "python",
   "pygments_lexer": "ipython3",
   "version": "3.6.5"
  }
 },
 "nbformat": 4,
 "nbformat_minor": 2
}
